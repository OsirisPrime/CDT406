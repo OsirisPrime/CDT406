{
 "cells": [
  {
   "metadata": {},
   "cell_type": "markdown",
   "source": [
    "# Setup\n",
    "This section contains all necessary setup such as libraries and model creation."
   ],
   "id": "cce7ad94f634b73e"
  },
  {
   "cell_type": "code",
   "id": "initial_id",
   "metadata": {
    "collapsed": true,
    "ExecuteTime": {
     "end_time": "2025-05-08T09:06:50.221310Z",
     "start_time": "2025-05-08T09:06:44.546076Z"
    }
   },
   "source": [
    "import tensorflow as tf\n",
    "import pandas as pd\n",
    "import numpy as np\n",
    "\n",
    "from src.data.data_helper import get_raw_data_as_dataframe"
   ],
   "outputs": [],
   "execution_count": 1
  },
  {
   "metadata": {
    "ExecuteTime": {
     "end_time": "2025-05-08T09:06:57.866425Z",
     "start_time": "2025-05-08T09:06:50.485864Z"
    }
   },
   "cell_type": "code",
   "source": [
    "raw_data = get_raw_data_as_dataframe()\n",
    "raw_data.head()"
   ],
   "id": "6216f39a6c77b17e",
   "outputs": [
    {
     "data": {
      "text/plain": [
       "     time  measurement  label  \\\n",
       "0  0.0000     1.610419      0   \n",
       "1  0.0002     1.610419      0   \n",
       "2  0.0004     1.610419      0   \n",
       "3  0.0006     1.610419      0   \n",
       "4  0.0008     1.610419      0   \n",
       "\n",
       "                                              source  \n",
       "0  C:\\Users\\erik\\IES_codebase\\EMG_Project\\CDT406-...  \n",
       "1  C:\\Users\\erik\\IES_codebase\\EMG_Project\\CDT406-...  \n",
       "2  C:\\Users\\erik\\IES_codebase\\EMG_Project\\CDT406-...  \n",
       "3  C:\\Users\\erik\\IES_codebase\\EMG_Project\\CDT406-...  \n",
       "4  C:\\Users\\erik\\IES_codebase\\EMG_Project\\CDT406-...  "
      ],
      "text/html": [
       "<div>\n",
       "<style scoped>\n",
       "    .dataframe tbody tr th:only-of-type {\n",
       "        vertical-align: middle;\n",
       "    }\n",
       "\n",
       "    .dataframe tbody tr th {\n",
       "        vertical-align: top;\n",
       "    }\n",
       "\n",
       "    .dataframe thead th {\n",
       "        text-align: right;\n",
       "    }\n",
       "</style>\n",
       "<table border=\"1\" class=\"dataframe\">\n",
       "  <thead>\n",
       "    <tr style=\"text-align: right;\">\n",
       "      <th></th>\n",
       "      <th>time</th>\n",
       "      <th>measurement</th>\n",
       "      <th>label</th>\n",
       "      <th>source</th>\n",
       "    </tr>\n",
       "  </thead>\n",
       "  <tbody>\n",
       "    <tr>\n",
       "      <th>0</th>\n",
       "      <td>0.0000</td>\n",
       "      <td>1.610419</td>\n",
       "      <td>0</td>\n",
       "      <td>C:\\Users\\erik\\IES_codebase\\EMG_Project\\CDT406-...</td>\n",
       "    </tr>\n",
       "    <tr>\n",
       "      <th>1</th>\n",
       "      <td>0.0002</td>\n",
       "      <td>1.610419</td>\n",
       "      <td>0</td>\n",
       "      <td>C:\\Users\\erik\\IES_codebase\\EMG_Project\\CDT406-...</td>\n",
       "    </tr>\n",
       "    <tr>\n",
       "      <th>2</th>\n",
       "      <td>0.0004</td>\n",
       "      <td>1.610419</td>\n",
       "      <td>0</td>\n",
       "      <td>C:\\Users\\erik\\IES_codebase\\EMG_Project\\CDT406-...</td>\n",
       "    </tr>\n",
       "    <tr>\n",
       "      <th>3</th>\n",
       "      <td>0.0006</td>\n",
       "      <td>1.610419</td>\n",
       "      <td>0</td>\n",
       "      <td>C:\\Users\\erik\\IES_codebase\\EMG_Project\\CDT406-...</td>\n",
       "    </tr>\n",
       "    <tr>\n",
       "      <th>4</th>\n",
       "      <td>0.0008</td>\n",
       "      <td>1.610419</td>\n",
       "      <td>0</td>\n",
       "      <td>C:\\Users\\erik\\IES_codebase\\EMG_Project\\CDT406-...</td>\n",
       "    </tr>\n",
       "  </tbody>\n",
       "</table>\n",
       "</div>"
      ]
     },
     "execution_count": 2,
     "metadata": {},
     "output_type": "execute_result"
    }
   ],
   "execution_count": 2
  },
  {
   "metadata": {},
   "cell_type": "markdown",
   "source": [
    "## Pre-processor Calibration\n",
    "Due to the fact that all data needs to be pre-processed using the same bandpass filter and normalization the pre-processor needs to be calibrated. This is done by calculating the coefficients of the bandpass filter and the normalization parameters.\n",
    "\n",
    "These parameters will then be passed to the selected model class."
   ],
   "id": "1cbd0adaf97c5d08"
  },
  {
   "metadata": {
    "ExecuteTime": {
     "end_time": "2025-05-08T09:06:57.968164Z",
     "start_time": "2025-05-08T09:06:57.931192Z"
    }
   },
   "cell_type": "code",
   "source": [
    "from src.models.preprocessing.preprocessor import SignalPreprocessor\n",
    "\n",
    "pre_processor = SignalPreprocessor(\n",
    "    low_freq=20.0,\n",
    "    high_freq=500.0,\n",
    "    fs=5000.0,\n",
    "    order=4\n",
    ")"
   ],
   "id": "17efca2c8504cf75",
   "outputs": [],
   "execution_count": 3
  },
  {
   "metadata": {
    "ExecuteTime": {
     "end_time": "2025-05-08T09:07:01.125026Z",
     "start_time": "2025-05-08T09:06:58.021766Z"
    }
   },
   "cell_type": "code",
   "source": "pre_processor.calibrate(raw_data)",
   "id": "413737e8d43acd15",
   "outputs": [],
   "execution_count": 4
  },
  {
   "metadata": {},
   "cell_type": "markdown",
   "source": [
    "## Data Parsing\n",
    "This section deals with segmenting the data into usable segements with correct labeling."
   ],
   "id": "28cf388cb7fbe339"
  },
  {
   "metadata": {
    "ExecuteTime": {
     "end_time": "2025-05-08T09:07:01.157765Z",
     "start_time": "2025-05-08T09:07:01.151095Z"
    }
   },
   "cell_type": "code",
   "source": "from src.data.data_helper import segement_data",
   "id": "18d5222402ca9312",
   "outputs": [],
   "execution_count": 5
  },
  {
   "metadata": {
    "ExecuteTime": {
     "end_time": "2025-05-08T09:07:05.274576Z",
     "start_time": "2025-05-08T09:07:01.176118Z"
    }
   },
   "cell_type": "code",
   "source": "segmented_data = segement_data(raw_data, window_length=200*5, overlap=50*5)",
   "id": "3531f31ce693ce49",
   "outputs": [],
   "execution_count": 6
  },
  {
   "metadata": {
    "ExecuteTime": {
     "end_time": "2025-05-08T09:07:05.304127Z",
     "start_time": "2025-05-08T09:07:05.291235Z"
    }
   },
   "cell_type": "code",
   "source": "segmented_data.head()",
   "id": "8e9cbe99d0d9531c",
   "outputs": [
    {
     "data": {
      "text/plain": [
       "                                         window_data  label  \\\n",
       "0  [1.6104191404439578, 1.6104191404439578, 1.610...      0   \n",
       "1  [1.6288106990610434, 1.6288106990610434, 1.628...      0   \n",
       "2  [1.6324890107844603, 1.6324890107844603, 1.628...      0   \n",
       "3  [1.6361673225078774, 1.6361673225078774, 1.636...      0   \n",
       "4  [1.6251323873376262, 1.6251323873376262, 1.625...      0   \n",
       "\n",
       "                                              source  \n",
       "0  C:\\Users\\erik\\IES_codebase\\EMG_Project\\CDT406-...  \n",
       "1  C:\\Users\\erik\\IES_codebase\\EMG_Project\\CDT406-...  \n",
       "2  C:\\Users\\erik\\IES_codebase\\EMG_Project\\CDT406-...  \n",
       "3  C:\\Users\\erik\\IES_codebase\\EMG_Project\\CDT406-...  \n",
       "4  C:\\Users\\erik\\IES_codebase\\EMG_Project\\CDT406-...  "
      ],
      "text/html": [
       "<div>\n",
       "<style scoped>\n",
       "    .dataframe tbody tr th:only-of-type {\n",
       "        vertical-align: middle;\n",
       "    }\n",
       "\n",
       "    .dataframe tbody tr th {\n",
       "        vertical-align: top;\n",
       "    }\n",
       "\n",
       "    .dataframe thead th {\n",
       "        text-align: right;\n",
       "    }\n",
       "</style>\n",
       "<table border=\"1\" class=\"dataframe\">\n",
       "  <thead>\n",
       "    <tr style=\"text-align: right;\">\n",
       "      <th></th>\n",
       "      <th>window_data</th>\n",
       "      <th>label</th>\n",
       "      <th>source</th>\n",
       "    </tr>\n",
       "  </thead>\n",
       "  <tbody>\n",
       "    <tr>\n",
       "      <th>0</th>\n",
       "      <td>[1.6104191404439578, 1.6104191404439578, 1.610...</td>\n",
       "      <td>0</td>\n",
       "      <td>C:\\Users\\erik\\IES_codebase\\EMG_Project\\CDT406-...</td>\n",
       "    </tr>\n",
       "    <tr>\n",
       "      <th>1</th>\n",
       "      <td>[1.6288106990610434, 1.6288106990610434, 1.628...</td>\n",
       "      <td>0</td>\n",
       "      <td>C:\\Users\\erik\\IES_codebase\\EMG_Project\\CDT406-...</td>\n",
       "    </tr>\n",
       "    <tr>\n",
       "      <th>2</th>\n",
       "      <td>[1.6324890107844603, 1.6324890107844603, 1.628...</td>\n",
       "      <td>0</td>\n",
       "      <td>C:\\Users\\erik\\IES_codebase\\EMG_Project\\CDT406-...</td>\n",
       "    </tr>\n",
       "    <tr>\n",
       "      <th>3</th>\n",
       "      <td>[1.6361673225078774, 1.6361673225078774, 1.636...</td>\n",
       "      <td>0</td>\n",
       "      <td>C:\\Users\\erik\\IES_codebase\\EMG_Project\\CDT406-...</td>\n",
       "    </tr>\n",
       "    <tr>\n",
       "      <th>4</th>\n",
       "      <td>[1.6251323873376262, 1.6251323873376262, 1.625...</td>\n",
       "      <td>0</td>\n",
       "      <td>C:\\Users\\erik\\IES_codebase\\EMG_Project\\CDT406-...</td>\n",
       "    </tr>\n",
       "  </tbody>\n",
       "</table>\n",
       "</div>"
      ]
     },
     "execution_count": 7,
     "metadata": {},
     "output_type": "execute_result"
    }
   ],
   "execution_count": 7
  },
  {
   "metadata": {
    "ExecuteTime": {
     "end_time": "2025-05-08T09:07:05.374134Z",
     "start_time": "2025-05-08T09:07:05.365543Z"
    }
   },
   "cell_type": "code",
   "source": "segmented_data.iloc[50]",
   "id": "26994063576a24b1",
   "outputs": [
    {
     "data": {
      "text/plain": [
       "window_data    [1.4007553722091834, 1.411790307379435, 1.4265...\n",
       "label                                                          2\n",
       "source         C:\\Users\\erik\\IES_codebase\\EMG_Project\\CDT406-...\n",
       "Name: 50, dtype: object"
      ]
     },
     "execution_count": 8,
     "metadata": {},
     "output_type": "execute_result"
    }
   ],
   "execution_count": 8
  },
  {
   "metadata": {
    "ExecuteTime": {
     "end_time": "2025-05-08T09:07:05.486153Z",
     "start_time": "2025-05-08T09:07:05.476703Z"
    }
   },
   "cell_type": "code",
   "source": [
    "num_classes = segmented_data['label'].nunique()\n",
    "num_classes"
   ],
   "id": "2b5473d721ae9feb",
   "outputs": [
    {
     "data": {
      "text/plain": [
       "4"
      ]
     },
     "execution_count": 9,
     "metadata": {},
     "output_type": "execute_result"
    }
   ],
   "execution_count": 9
  },
  {
   "metadata": {
    "ExecuteTime": {
     "end_time": "2025-05-08T09:07:05.607214Z",
     "start_time": "2025-05-08T09:07:05.565222Z"
    }
   },
   "cell_type": "code",
   "source": [
    "y_data = np.array(segmented_data['label'].values)\n",
    "\n",
    "# I apologize for this horrible line. Can be fixed by fixing the data_helper\n",
    "X_data = np.stack(segmented_data.drop(columns=['label', 'source'])['window_data'].values)"
   ],
   "id": "f48efd56054d20af",
   "outputs": [],
   "execution_count": 10
  },
  {
   "metadata": {
    "ExecuteTime": {
     "end_time": "2025-05-08T09:07:05.648433Z",
     "start_time": "2025-05-08T09:07:05.641685Z"
    }
   },
   "cell_type": "code",
   "source": "X_data.shape",
   "id": "e6d3308abdb1c7",
   "outputs": [
    {
     "data": {
      "text/plain": [
       "(9930, 1000)"
      ]
     },
     "execution_count": 11,
     "metadata": {},
     "output_type": "execute_result"
    }
   ],
   "execution_count": 11
  },
  {
   "metadata": {
    "ExecuteTime": {
     "end_time": "2025-05-08T09:07:12.515315Z",
     "start_time": "2025-05-08T09:07:05.674905Z"
    }
   },
   "cell_type": "code",
   "source": [
    "X_data = pre_processor.batch_pre_process(X_data)\n",
    "X_data.shape"
   ],
   "id": "92fb2b904eede463",
   "outputs": [
    {
     "data": {
      "text/plain": [
       "(9930, 1000)"
      ]
     },
     "execution_count": 12,
     "metadata": {},
     "output_type": "execute_result"
    }
   ],
   "execution_count": 12
  },
  {
   "metadata": {
    "ExecuteTime": {
     "end_time": "2025-05-08T09:07:12.555959Z",
     "start_time": "2025-05-08T09:07:12.549761Z"
    }
   },
   "cell_type": "code",
   "source": "y_data.shape",
   "id": "79f42ccce1725a68",
   "outputs": [
    {
     "data": {
      "text/plain": [
       "(9930,)"
      ]
     },
     "execution_count": 13,
     "metadata": {},
     "output_type": "execute_result"
    }
   ],
   "execution_count": 13
  },
  {
   "metadata": {
    "ExecuteTime": {
     "end_time": "2025-05-08T09:07:12.693291Z",
     "start_time": "2025-05-08T09:07:12.597935Z"
    }
   },
   "cell_type": "code",
   "source": [
    "from sklearn.model_selection import train_test_split\n",
    "\n",
    "X_train, X_val, y_train, y_val = train_test_split(\n",
    "        X_data, y_data, test_size=0.2\n",
    "    )"
   ],
   "id": "740d97cd981246a1",
   "outputs": [],
   "execution_count": 14
  },
  {
   "metadata": {
    "ExecuteTime": {
     "end_time": "2025-05-08T09:07:12.725776Z",
     "start_time": "2025-05-08T09:07:12.719060Z"
    }
   },
   "cell_type": "code",
   "source": "X_train.shape",
   "id": "55690ca993a8b1f1",
   "outputs": [
    {
     "data": {
      "text/plain": [
       "(7944, 1000)"
      ]
     },
     "execution_count": 15,
     "metadata": {},
     "output_type": "execute_result"
    }
   ],
   "execution_count": 15
  },
  {
   "metadata": {
    "ExecuteTime": {
     "end_time": "2025-05-08T09:07:12.776343Z",
     "start_time": "2025-05-08T09:07:12.768136Z"
    }
   },
   "cell_type": "code",
   "source": "X_val.shape",
   "id": "fca9cdfeff7ca361",
   "outputs": [
    {
     "data": {
      "text/plain": [
       "(1986, 1000)"
      ]
     },
     "execution_count": 16,
     "metadata": {},
     "output_type": "execute_result"
    }
   ],
   "execution_count": 16
  },
  {
   "metadata": {},
   "cell_type": "markdown",
   "source": "## Model Setup",
   "id": "95d03be02b8ddfad"
  },
  {
   "metadata": {
    "ExecuteTime": {
     "end_time": "2025-05-08T09:07:12.930738Z",
     "start_time": "2025-05-08T09:07:12.904223Z"
    }
   },
   "cell_type": "code",
   "source": [
    "from src.models.LSTM.LSTM import LSTM\n",
    "from src.models.LSTM_STFT.LSTM_STFT import LSTM_STFT\n",
    "from src.models.LSTM_STFT_Dense.LSTM_STFT_Dense import LSTM_STFT_Dense"
   ],
   "id": "6b5bfb3fa23c22bf",
   "outputs": [],
   "execution_count": 17
  },
  {
   "metadata": {
    "ExecuteTime": {
     "end_time": "2025-05-08T09:08:00.497236Z",
     "start_time": "2025-05-08T09:08:00.454367Z"
    }
   },
   "cell_type": "code",
   "source": "LSTM_model = LSTM(input_shape=X_data.shape[1], num_classes=num_classes)",
   "id": "6695f94cd11817a3",
   "outputs": [],
   "execution_count": 23
  },
  {
   "metadata": {
    "ExecuteTime": {
     "end_time": "2025-05-08T09:08:01.376234Z",
     "start_time": "2025-05-08T09:08:01.296128Z"
    }
   },
   "cell_type": "code",
   "source": "LSTM_STFT_model = LSTM_STFT(input_shape=X_data.shape[1], num_classes=num_classes)",
   "id": "f61a86083a6bafaf",
   "outputs": [],
   "execution_count": 24
  },
  {
   "metadata": {
    "ExecuteTime": {
     "end_time": "2025-05-08T09:08:01.644827Z",
     "start_time": "2025-05-08T09:08:01.558364Z"
    }
   },
   "cell_type": "code",
   "source": "LSTM_STFT_Dense_model = LSTM_STFT_Dense(input_shape=X_data.shape[1], num_classes=num_classes)",
   "id": "49df3edd702db6d0",
   "outputs": [],
   "execution_count": 25
  },
  {
   "metadata": {},
   "cell_type": "markdown",
   "source": "# Train Model",
   "id": "e612d4063d25f585"
  },
  {
   "metadata": {
    "ExecuteTime": {
     "end_time": "2025-05-08T09:08:15.584318Z",
     "start_time": "2025-05-08T09:08:02.331664Z"
    }
   },
   "cell_type": "code",
   "source": "LSTM_model.train(X_train=X_train, y_train=y_train, X_val=X_val, y_val=y_val, epochs=10, verbose=2)",
   "id": "579ce5c344a75a1a",
   "outputs": [
    {
     "name": "stdout",
     "output_type": "stream",
     "text": [
      "Epoch 1/10\n",
      "249/249 - 3s - 12ms/step - accuracy: 0.8841 - loss: 0.4250 - val_accuracy: 0.9215 - val_loss: 0.2870\n",
      "Epoch 2/10\n",
      "249/249 - 1s - 4ms/step - accuracy: 0.9183 - loss: 0.3156 - val_accuracy: 0.9315 - val_loss: 0.2690\n",
      "Epoch 3/10\n",
      "249/249 - 1s - 5ms/step - accuracy: 0.9203 - loss: 0.3082 - val_accuracy: 0.9305 - val_loss: 0.2664\n",
      "Epoch 4/10\n",
      "249/249 - 1s - 5ms/step - accuracy: 0.9174 - loss: 0.3104 - val_accuracy: 0.9280 - val_loss: 0.2836\n",
      "Epoch 5/10\n",
      "249/249 - 1s - 4ms/step - accuracy: 0.9164 - loss: 0.3127 - val_accuracy: 0.9335 - val_loss: 0.2569\n",
      "Epoch 6/10\n",
      "249/249 - 1s - 4ms/step - accuracy: 0.9204 - loss: 0.3010 - val_accuracy: 0.9350 - val_loss: 0.2566\n",
      "Epoch 7/10\n",
      "249/249 - 1s - 5ms/step - accuracy: 0.9178 - loss: 0.3132 - val_accuracy: 0.9260 - val_loss: 0.2696\n",
      "Epoch 8/10\n",
      "249/249 - 1s - 4ms/step - accuracy: 0.9217 - loss: 0.2983 - val_accuracy: 0.9048 - val_loss: 0.3128\n",
      "Epoch 9/10\n",
      "249/249 - 1s - 4ms/step - accuracy: 0.9179 - loss: 0.3036 - val_accuracy: 0.9355 - val_loss: 0.2516\n",
      "Epoch 10/10\n",
      "249/249 - 2s - 6ms/step - accuracy: 0.9211 - loss: 0.2961 - val_accuracy: 0.9280 - val_loss: 0.2615\n"
     ]
    }
   ],
   "execution_count": 26
  },
  {
   "metadata": {
    "ExecuteTime": {
     "end_time": "2025-05-08T09:08:30.466662Z",
     "start_time": "2025-05-08T09:08:15.635060Z"
    }
   },
   "cell_type": "code",
   "source": "LSTM_STFT_model.train(X_train=X_train, y_train=y_train, X_val=X_val, y_val=y_val, epochs=10, verbose=2)",
   "id": "5c30cae49d752c96",
   "outputs": [
    {
     "name": "stdout",
     "output_type": "stream",
     "text": [
      "Epoch 1/10\n",
      "249/249 - 3s - 14ms/step - accuracy: 0.9110 - loss: 0.3652 - val_accuracy: 0.9048 - val_loss: 0.3204\n",
      "Epoch 2/10\n",
      "249/249 - 1s - 5ms/step - accuracy: 0.9213 - loss: 0.3048 - val_accuracy: 0.9295 - val_loss: 0.2600\n",
      "Epoch 3/10\n",
      "249/249 - 1s - 5ms/step - accuracy: 0.9233 - loss: 0.2981 - val_accuracy: 0.9355 - val_loss: 0.2606\n",
      "Epoch 4/10\n",
      "249/249 - 1s - 5ms/step - accuracy: 0.9230 - loss: 0.3013 - val_accuracy: 0.9315 - val_loss: 0.2541\n",
      "Epoch 5/10\n",
      "249/249 - 1s - 5ms/step - accuracy: 0.9222 - loss: 0.2978 - val_accuracy: 0.9325 - val_loss: 0.2598\n",
      "Epoch 6/10\n",
      "249/249 - 1s - 5ms/step - accuracy: 0.9223 - loss: 0.2967 - val_accuracy: 0.9290 - val_loss: 0.2698\n",
      "Epoch 7/10\n",
      "249/249 - 1s - 5ms/step - accuracy: 0.9248 - loss: 0.2905 - val_accuracy: 0.9325 - val_loss: 0.2549\n",
      "Epoch 8/10\n",
      "249/249 - 1s - 5ms/step - accuracy: 0.9270 - loss: 0.2864 - val_accuracy: 0.9325 - val_loss: 0.2521\n",
      "Epoch 9/10\n",
      "249/249 - 1s - 5ms/step - accuracy: 0.9265 - loss: 0.2868 - val_accuracy: 0.9330 - val_loss: 0.2604\n",
      "Epoch 10/10\n",
      "249/249 - 1s - 5ms/step - accuracy: 0.9247 - loss: 0.2891 - val_accuracy: 0.9330 - val_loss: 0.2600\n"
     ]
    }
   ],
   "execution_count": 27
  },
  {
   "metadata": {
    "ExecuteTime": {
     "end_time": "2025-05-08T09:08:43.598910Z",
     "start_time": "2025-05-08T09:08:30.492503Z"
    }
   },
   "cell_type": "code",
   "source": "LSTM_STFT_Dense_model.train(X_train=X_train, y_train=y_train, X_val=X_val, y_val=y_val, epochs=10, verbose=2)",
   "id": "8007e58e81f4c2aa",
   "outputs": [
    {
     "name": "stdout",
     "output_type": "stream",
     "text": [
      "Epoch 1/10\n",
      "249/249 - 3s - 12ms/step - accuracy: 0.8828 - loss: 0.4605 - val_accuracy: 0.9310 - val_loss: 0.2646\n",
      "Epoch 2/10\n",
      "249/249 - 1s - 5ms/step - accuracy: 0.9158 - loss: 0.3196 - val_accuracy: 0.9270 - val_loss: 0.2874\n",
      "Epoch 3/10\n",
      "249/249 - 1s - 4ms/step - accuracy: 0.9160 - loss: 0.3106 - val_accuracy: 0.9295 - val_loss: 0.2686\n",
      "Epoch 4/10\n",
      "249/249 - 1s - 4ms/step - accuracy: 0.9182 - loss: 0.3131 - val_accuracy: 0.9305 - val_loss: 0.2683\n",
      "Epoch 5/10\n",
      "249/249 - 1s - 4ms/step - accuracy: 0.9211 - loss: 0.3022 - val_accuracy: 0.9305 - val_loss: 0.2656\n",
      "Epoch 6/10\n",
      "249/249 - 1s - 4ms/step - accuracy: 0.9187 - loss: 0.3012 - val_accuracy: 0.9320 - val_loss: 0.2605\n",
      "Epoch 7/10\n",
      "249/249 - 1s - 5ms/step - accuracy: 0.9202 - loss: 0.3032 - val_accuracy: 0.9194 - val_loss: 0.2927\n",
      "Epoch 8/10\n",
      "249/249 - 1s - 5ms/step - accuracy: 0.9215 - loss: 0.3044 - val_accuracy: 0.9134 - val_loss: 0.2890\n",
      "Epoch 9/10\n",
      "249/249 - 1s - 4ms/step - accuracy: 0.9203 - loss: 0.3080 - val_accuracy: 0.9270 - val_loss: 0.2753\n",
      "Epoch 10/10\n",
      "249/249 - 1s - 5ms/step - accuracy: 0.9187 - loss: 0.3077 - val_accuracy: 0.9335 - val_loss: 0.2565\n"
     ]
    }
   ],
   "execution_count": 28
  },
  {
   "metadata": {},
   "cell_type": "code",
   "outputs": [],
   "execution_count": null,
   "source": "",
   "id": "991b916740bb3aa8"
  }
 ],
 "metadata": {
  "kernelspec": {
   "display_name": "Python 3",
   "language": "python",
   "name": "python3"
  },
  "language_info": {
   "codemirror_mode": {
    "name": "ipython",
    "version": 2
   },
   "file_extension": ".py",
   "mimetype": "text/x-python",
   "name": "python",
   "nbconvert_exporter": "python",
   "pygments_lexer": "ipython2",
   "version": "2.7.6"
  }
 },
 "nbformat": 4,
 "nbformat_minor": 5
}

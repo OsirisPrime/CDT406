{
 "cells": [
  {
   "metadata": {},
   "cell_type": "markdown",
   "source": [
    "# Setup\n",
    "This section contains all necessary setup such as libraries and model creation."
   ],
   "id": "cce7ad94f634b73e"
  },
  {
   "cell_type": "code",
   "id": "initial_id",
   "metadata": {
    "collapsed": true,
    "ExecuteTime": {
     "end_time": "2025-05-08T09:33:24.417544Z",
     "start_time": "2025-05-08T09:33:23.918380Z"
    }
   },
   "source": [
    "import numpy as np\n",
    "\n",
    "from src.data.data_helper import get_raw_data_as_dataframe"
   ],
   "outputs": [],
   "execution_count": 1
  },
  {
   "metadata": {
    "ExecuteTime": {
     "end_time": "2025-05-08T09:33:33.366099Z",
     "start_time": "2025-05-08T09:33:24.663336Z"
    }
   },
   "cell_type": "code",
   "source": [
    "raw_data = get_raw_data_as_dataframe()\n",
    "raw_data.head()"
   ],
   "id": "6216f39a6c77b17e",
   "outputs": [
    {
     "data": {
      "text/plain": [
       "     time  measurement  label  \\\n",
       "0  0.0000     1.650881      0   \n",
       "1  0.0002     1.654559      0   \n",
       "2  0.0004     1.650881      0   \n",
       "3  0.0006     1.654559      0   \n",
       "4  0.0008     1.654559      0   \n",
       "\n",
       "                                              source  \n",
       "0  C:\\Users\\erik\\IES_codebase\\EMG_Project\\CDT406-...  \n",
       "1  C:\\Users\\erik\\IES_codebase\\EMG_Project\\CDT406-...  \n",
       "2  C:\\Users\\erik\\IES_codebase\\EMG_Project\\CDT406-...  \n",
       "3  C:\\Users\\erik\\IES_codebase\\EMG_Project\\CDT406-...  \n",
       "4  C:\\Users\\erik\\IES_codebase\\EMG_Project\\CDT406-...  "
      ],
      "text/html": [
       "<div>\n",
       "<style scoped>\n",
       "    .dataframe tbody tr th:only-of-type {\n",
       "        vertical-align: middle;\n",
       "    }\n",
       "\n",
       "    .dataframe tbody tr th {\n",
       "        vertical-align: top;\n",
       "    }\n",
       "\n",
       "    .dataframe thead th {\n",
       "        text-align: right;\n",
       "    }\n",
       "</style>\n",
       "<table border=\"1\" class=\"dataframe\">\n",
       "  <thead>\n",
       "    <tr style=\"text-align: right;\">\n",
       "      <th></th>\n",
       "      <th>time</th>\n",
       "      <th>measurement</th>\n",
       "      <th>label</th>\n",
       "      <th>source</th>\n",
       "    </tr>\n",
       "  </thead>\n",
       "  <tbody>\n",
       "    <tr>\n",
       "      <th>0</th>\n",
       "      <td>0.0000</td>\n",
       "      <td>1.650881</td>\n",
       "      <td>0</td>\n",
       "      <td>C:\\Users\\erik\\IES_codebase\\EMG_Project\\CDT406-...</td>\n",
       "    </tr>\n",
       "    <tr>\n",
       "      <th>1</th>\n",
       "      <td>0.0002</td>\n",
       "      <td>1.654559</td>\n",
       "      <td>0</td>\n",
       "      <td>C:\\Users\\erik\\IES_codebase\\EMG_Project\\CDT406-...</td>\n",
       "    </tr>\n",
       "    <tr>\n",
       "      <th>2</th>\n",
       "      <td>0.0004</td>\n",
       "      <td>1.650881</td>\n",
       "      <td>0</td>\n",
       "      <td>C:\\Users\\erik\\IES_codebase\\EMG_Project\\CDT406-...</td>\n",
       "    </tr>\n",
       "    <tr>\n",
       "      <th>3</th>\n",
       "      <td>0.0006</td>\n",
       "      <td>1.654559</td>\n",
       "      <td>0</td>\n",
       "      <td>C:\\Users\\erik\\IES_codebase\\EMG_Project\\CDT406-...</td>\n",
       "    </tr>\n",
       "    <tr>\n",
       "      <th>4</th>\n",
       "      <td>0.0008</td>\n",
       "      <td>1.654559</td>\n",
       "      <td>0</td>\n",
       "      <td>C:\\Users\\erik\\IES_codebase\\EMG_Project\\CDT406-...</td>\n",
       "    </tr>\n",
       "  </tbody>\n",
       "</table>\n",
       "</div>"
      ]
     },
     "execution_count": 2,
     "metadata": {},
     "output_type": "execute_result"
    }
   ],
   "execution_count": 2
  },
  {
   "metadata": {
    "ExecuteTime": {
     "end_time": "2025-05-08T09:33:33.447526Z",
     "start_time": "2025-05-08T09:33:33.438785Z"
    }
   },
   "cell_type": "code",
   "source": "raw_data.shape",
   "id": "94a17ceba516f1fe",
   "outputs": [
    {
     "data": {
      "text/plain": [
       "(8030000, 4)"
      ]
     },
     "execution_count": 3,
     "metadata": {},
     "output_type": "execute_result"
    }
   ],
   "execution_count": 3
  },
  {
   "metadata": {},
   "cell_type": "markdown",
   "source": [
    "## Pre-processor Calibration\n",
    "Due to the fact that all data needs to be pre-processed using the same bandpass filter and normalization the pre-processor needs to be calibrated. This is done by calculating the coefficients of the bandpass filter and the normalization parameters.\n",
    "\n",
    "These parameters will then be passed to the selected model class."
   ],
   "id": "1cbd0adaf97c5d08"
  },
  {
   "metadata": {
    "ExecuteTime": {
     "end_time": "2025-05-08T09:33:38.320309Z",
     "start_time": "2025-05-08T09:33:33.498383Z"
    }
   },
   "cell_type": "code",
   "source": [
    "from src.models.preprocessing.preprocessor import SignalPreprocessor\n",
    "\n",
    "pre_processor = SignalPreprocessor(\n",
    "    low_freq=20.0,\n",
    "    high_freq=500.0,\n",
    "    fs=5000.0,\n",
    "    order=4\n",
    ")"
   ],
   "id": "17efca2c8504cf75",
   "outputs": [],
   "execution_count": 4
  },
  {
   "metadata": {
    "ExecuteTime": {
     "end_time": "2025-05-08T09:33:42.513207Z",
     "start_time": "2025-05-08T09:33:38.339190Z"
    }
   },
   "cell_type": "code",
   "source": "pre_processor.calibrate(raw_data)",
   "id": "413737e8d43acd15",
   "outputs": [],
   "execution_count": 5
  },
  {
   "metadata": {},
   "cell_type": "markdown",
   "source": [
    "## Data Parsing\n",
    "This section deals with segmenting the data into usable segements with correct labeling. After that we pre-process the data using the pre-processor which is valibrated above. Once the data is pre-processed we apply one-hot encoding to the labels to allow for the use of F1 score. Finally we split the data into training and validation sets."
   ],
   "id": "28cf388cb7fbe339"
  },
  {
   "metadata": {
    "ExecuteTime": {
     "end_time": "2025-05-08T09:33:42.540135Z",
     "start_time": "2025-05-08T09:33:42.532192Z"
    }
   },
   "cell_type": "code",
   "source": "from src.data.data_helper import segement_data",
   "id": "18d5222402ca9312",
   "outputs": [],
   "execution_count": 6
  },
  {
   "metadata": {
    "ExecuteTime": {
     "end_time": "2025-05-08T09:33:46.707433Z",
     "start_time": "2025-05-08T09:33:42.567538Z"
    }
   },
   "cell_type": "code",
   "source": "segmented_data = segement_data(raw_data, window_length=200*5, overlap=50*5)",
   "id": "3531f31ce693ce49",
   "outputs": [],
   "execution_count": 7
  },
  {
   "metadata": {
    "ExecuteTime": {
     "end_time": "2025-05-08T09:33:46.781726Z",
     "start_time": "2025-05-08T09:33:46.763782Z"
    }
   },
   "cell_type": "code",
   "source": "segmented_data.head()",
   "id": "8e9cbe99d0d9531c",
   "outputs": [
    {
     "data": {
      "text/plain": [
       "                                         window_data  label  \\\n",
       "0  [1.6508805694015458, 1.654558881124963, 1.6508...      0   \n",
       "1  [1.6435239459547115, 1.6435239459547115, 1.643...      0   \n",
       "2  [1.6361673225078774, 1.6361673225078774, 1.636...      0   \n",
       "3  [1.647202257678129, 1.647202257678129, 1.65088...      0   \n",
       "4  [1.6435239459547115, 1.6435239459547115, 1.643...      0   \n",
       "\n",
       "                                              source  \n",
       "0  C:\\Users\\erik\\IES_codebase\\EMG_Project\\CDT406-...  \n",
       "1  C:\\Users\\erik\\IES_codebase\\EMG_Project\\CDT406-...  \n",
       "2  C:\\Users\\erik\\IES_codebase\\EMG_Project\\CDT406-...  \n",
       "3  C:\\Users\\erik\\IES_codebase\\EMG_Project\\CDT406-...  \n",
       "4  C:\\Users\\erik\\IES_codebase\\EMG_Project\\CDT406-...  "
      ],
      "text/html": [
       "<div>\n",
       "<style scoped>\n",
       "    .dataframe tbody tr th:only-of-type {\n",
       "        vertical-align: middle;\n",
       "    }\n",
       "\n",
       "    .dataframe tbody tr th {\n",
       "        vertical-align: top;\n",
       "    }\n",
       "\n",
       "    .dataframe thead th {\n",
       "        text-align: right;\n",
       "    }\n",
       "</style>\n",
       "<table border=\"1\" class=\"dataframe\">\n",
       "  <thead>\n",
       "    <tr style=\"text-align: right;\">\n",
       "      <th></th>\n",
       "      <th>window_data</th>\n",
       "      <th>label</th>\n",
       "      <th>source</th>\n",
       "    </tr>\n",
       "  </thead>\n",
       "  <tbody>\n",
       "    <tr>\n",
       "      <th>0</th>\n",
       "      <td>[1.6508805694015458, 1.654558881124963, 1.6508...</td>\n",
       "      <td>0</td>\n",
       "      <td>C:\\Users\\erik\\IES_codebase\\EMG_Project\\CDT406-...</td>\n",
       "    </tr>\n",
       "    <tr>\n",
       "      <th>1</th>\n",
       "      <td>[1.6435239459547115, 1.6435239459547115, 1.643...</td>\n",
       "      <td>0</td>\n",
       "      <td>C:\\Users\\erik\\IES_codebase\\EMG_Project\\CDT406-...</td>\n",
       "    </tr>\n",
       "    <tr>\n",
       "      <th>2</th>\n",
       "      <td>[1.6361673225078774, 1.6361673225078774, 1.636...</td>\n",
       "      <td>0</td>\n",
       "      <td>C:\\Users\\erik\\IES_codebase\\EMG_Project\\CDT406-...</td>\n",
       "    </tr>\n",
       "    <tr>\n",
       "      <th>3</th>\n",
       "      <td>[1.647202257678129, 1.647202257678129, 1.65088...</td>\n",
       "      <td>0</td>\n",
       "      <td>C:\\Users\\erik\\IES_codebase\\EMG_Project\\CDT406-...</td>\n",
       "    </tr>\n",
       "    <tr>\n",
       "      <th>4</th>\n",
       "      <td>[1.6435239459547115, 1.6435239459547115, 1.643...</td>\n",
       "      <td>0</td>\n",
       "      <td>C:\\Users\\erik\\IES_codebase\\EMG_Project\\CDT406-...</td>\n",
       "    </tr>\n",
       "  </tbody>\n",
       "</table>\n",
       "</div>"
      ]
     },
     "execution_count": 8,
     "metadata": {},
     "output_type": "execute_result"
    }
   ],
   "execution_count": 8
  },
  {
   "metadata": {
    "ExecuteTime": {
     "end_time": "2025-05-08T09:33:46.865709Z",
     "start_time": "2025-05-08T09:33:46.855477Z"
    }
   },
   "cell_type": "code",
   "source": "segmented_data.iloc[50]",
   "id": "26994063576a24b1",
   "outputs": [
    {
     "data": {
      "text/plain": [
       "window_data    [2.0628514824242603, 2.0371033003603407, 2.015...\n",
       "label                                                          1\n",
       "source         C:\\Users\\erik\\IES_codebase\\EMG_Project\\CDT406-...\n",
       "Name: 50, dtype: object"
      ]
     },
     "execution_count": 9,
     "metadata": {},
     "output_type": "execute_result"
    }
   ],
   "execution_count": 9
  },
  {
   "metadata": {
    "ExecuteTime": {
     "end_time": "2025-05-08T09:33:46.993765Z",
     "start_time": "2025-05-08T09:33:46.985429Z"
    }
   },
   "cell_type": "code",
   "source": [
    "num_classes = segmented_data['label'].nunique()\n",
    "num_classes"
   ],
   "id": "2b5473d721ae9feb",
   "outputs": [
    {
     "data": {
      "text/plain": [
       "4"
      ]
     },
     "execution_count": 10,
     "metadata": {},
     "output_type": "execute_result"
    }
   ],
   "execution_count": 10
  },
  {
   "metadata": {
    "ExecuteTime": {
     "end_time": "2025-05-08T09:33:47.293660Z",
     "start_time": "2025-05-08T09:33:47.220778Z"
    }
   },
   "cell_type": "code",
   "source": [
    "import tensorflow as tf\n",
    "\n",
    "y_data = np.array(segmented_data['label'].values)\n",
    "y_data = tf.keras.utils.to_categorical(y_data, num_classes=num_classes)\n",
    "\n",
    "# I apologize for this horrible line. Can be fixed by fixing the data_helper\n",
    "X_data = np.stack(segmented_data.drop(columns=['label', 'source'])['window_data'].values)"
   ],
   "id": "f48efd56054d20af",
   "outputs": [],
   "execution_count": 11
  },
  {
   "metadata": {
    "ExecuteTime": {
     "end_time": "2025-05-08T09:33:47.439583Z",
     "start_time": "2025-05-08T09:33:47.430039Z"
    }
   },
   "cell_type": "code",
   "source": "X_data.shape",
   "id": "e6d3308abdb1c7",
   "outputs": [
    {
     "data": {
      "text/plain": [
       "(10658, 1000)"
      ]
     },
     "execution_count": 12,
     "metadata": {},
     "output_type": "execute_result"
    }
   ],
   "execution_count": 12
  },
  {
   "metadata": {
    "ExecuteTime": {
     "end_time": "2025-05-08T09:33:55.681716Z",
     "start_time": "2025-05-08T09:33:47.515154Z"
    }
   },
   "cell_type": "code",
   "source": [
    "X_data = pre_processor.batch_pre_process(X_data)\n",
    "X_data.shape"
   ],
   "id": "92fb2b904eede463",
   "outputs": [
    {
     "data": {
      "text/plain": [
       "(10658, 1000)"
      ]
     },
     "execution_count": 13,
     "metadata": {},
     "output_type": "execute_result"
    }
   ],
   "execution_count": 13
  },
  {
   "metadata": {
    "ExecuteTime": {
     "end_time": "2025-05-08T09:33:55.719588Z",
     "start_time": "2025-05-08T09:33:55.711476Z"
    }
   },
   "cell_type": "code",
   "source": "y_data.shape",
   "id": "79f42ccce1725a68",
   "outputs": [
    {
     "data": {
      "text/plain": [
       "(10658, 4)"
      ]
     },
     "execution_count": 14,
     "metadata": {},
     "output_type": "execute_result"
    }
   ],
   "execution_count": 14
  },
  {
   "metadata": {
    "ExecuteTime": {
     "end_time": "2025-05-08T09:33:55.898727Z",
     "start_time": "2025-05-08T09:33:55.786697Z"
    }
   },
   "cell_type": "code",
   "source": [
    "from sklearn.model_selection import train_test_split\n",
    "\n",
    "X_train, X_val, y_train, y_val = train_test_split(\n",
    "        X_data, y_data, test_size=0.2\n",
    "    )"
   ],
   "id": "740d97cd981246a1",
   "outputs": [],
   "execution_count": 15
  },
  {
   "metadata": {
    "ExecuteTime": {
     "end_time": "2025-05-08T09:33:55.932898Z",
     "start_time": "2025-05-08T09:33:55.922229Z"
    }
   },
   "cell_type": "code",
   "source": "X_train.shape",
   "id": "55690ca993a8b1f1",
   "outputs": [
    {
     "data": {
      "text/plain": [
       "(8526, 1000)"
      ]
     },
     "execution_count": 16,
     "metadata": {},
     "output_type": "execute_result"
    }
   ],
   "execution_count": 16
  },
  {
   "metadata": {
    "ExecuteTime": {
     "end_time": "2025-05-08T09:33:56.009174Z",
     "start_time": "2025-05-08T09:33:55.999532Z"
    }
   },
   "cell_type": "code",
   "source": "X_val.shape",
   "id": "fca9cdfeff7ca361",
   "outputs": [
    {
     "data": {
      "text/plain": [
       "(2132, 1000)"
      ]
     },
     "execution_count": 17,
     "metadata": {},
     "output_type": "execute_result"
    }
   ],
   "execution_count": 17
  },
  {
   "metadata": {},
   "cell_type": "markdown",
   "source": [
    "## Model Setup\n",
    "Import model classes and create instances of the models."
   ],
   "id": "95d03be02b8ddfad"
  },
  {
   "metadata": {
    "ExecuteTime": {
     "end_time": "2025-05-08T09:33:56.081078Z",
     "start_time": "2025-05-08T09:33:56.063835Z"
    }
   },
   "cell_type": "code",
   "source": [
    "from src.models.LSTM.LSTM import LSTM\n",
    "from src.models.LSTM_STFT.LSTM_STFT import LSTM_STFT\n",
    "from src.models.LSTM_STFT_Dense.LSTM_STFT_Dense import LSTM_STFT_Dense"
   ],
   "id": "6b5bfb3fa23c22bf",
   "outputs": [],
   "execution_count": 18
  },
  {
   "metadata": {
    "ExecuteTime": {
     "end_time": "2025-05-08T09:33:56.265053Z",
     "start_time": "2025-05-08T09:33:56.121101Z"
    }
   },
   "cell_type": "code",
   "source": "LSTM_model = LSTM(input_shape=X_data.shape[1], num_classes=num_classes)",
   "id": "6695f94cd11817a3",
   "outputs": [],
   "execution_count": 19
  },
  {
   "metadata": {
    "ExecuteTime": {
     "end_time": "2025-05-08T09:33:57.638151Z",
     "start_time": "2025-05-08T09:33:56.286903Z"
    }
   },
   "cell_type": "code",
   "source": "LSTM_STFT_model = LSTM_STFT(input_shape=X_data.shape[1], num_classes=num_classes)",
   "id": "f61a86083a6bafaf",
   "outputs": [
    {
     "name": "stdout",
     "output_type": "stream",
     "text": [
      "WARNING:tensorflow:From C:\\Users\\erik\\anaconda3\\envs\\EMG_project\\Lib\\site-packages\\keras\\src\\backend\\tensorflow\\core.py:219: The name tf.placeholder is deprecated. Please use tf.compat.v1.placeholder instead.\n",
      "\n"
     ]
    }
   ],
   "execution_count": 20
  },
  {
   "metadata": {
    "ExecuteTime": {
     "end_time": "2025-05-08T09:33:57.877359Z",
     "start_time": "2025-05-08T09:33:57.660788Z"
    }
   },
   "cell_type": "code",
   "source": "LSTM_STFT_Dense_model = LSTM_STFT_Dense(input_shape=X_data.shape[1], num_classes=num_classes)",
   "id": "49df3edd702db6d0",
   "outputs": [],
   "execution_count": 21
  },
  {
   "metadata": {},
   "cell_type": "markdown",
   "source": [
    "# Train Model\n",
    "Train the models"
   ],
   "id": "e612d4063d25f585"
  },
  {
   "metadata": {
    "ExecuteTime": {
     "end_time": "2025-05-08T09:34:12.039550Z",
     "start_time": "2025-05-08T09:33:57.923979Z"
    }
   },
   "cell_type": "code",
   "source": "LSTM_model.train(X_train=X_train, y_train=y_train, X_val=X_val, y_val=y_val, epochs=10, verbose=2)",
   "id": "579ce5c344a75a1a",
   "outputs": [
    {
     "name": "stdout",
     "output_type": "stream",
     "text": [
      "Epoch 1/10\n",
      "267/267 - 4s - 14ms/step - f1_score: 0.4522 - loss: 0.4513 - val_f1_score: 0.4681 - val_loss: 0.3323\n",
      "Epoch 2/10\n",
      "267/267 - 1s - 3ms/step - f1_score: 0.5434 - loss: 0.3318 - val_f1_score: 0.5881 - val_loss: 0.3244\n",
      "Epoch 3/10\n",
      "267/267 - 1s - 3ms/step - f1_score: 0.5832 - loss: 0.3341 - val_f1_score: 0.5625 - val_loss: 0.3377\n",
      "Epoch 4/10\n",
      "267/267 - 1s - 4ms/step - f1_score: 0.5912 - loss: 0.3212 - val_f1_score: 0.5847 - val_loss: 0.3127\n",
      "Epoch 5/10\n",
      "267/267 - 1s - 5ms/step - f1_score: 0.5981 - loss: 0.3277 - val_f1_score: 0.5832 - val_loss: 0.3152\n",
      "Epoch 6/10\n",
      "267/267 - 1s - 5ms/step - f1_score: 0.6200 - loss: 0.3132 - val_f1_score: 0.5669 - val_loss: 0.3343\n",
      "Epoch 7/10\n",
      "267/267 - 2s - 6ms/step - f1_score: 0.6002 - loss: 0.3208 - val_f1_score: 0.5793 - val_loss: 0.3144\n",
      "Epoch 8/10\n",
      "267/267 - 1s - 4ms/step - f1_score: 0.6028 - loss: 0.3151 - val_f1_score: 0.6310 - val_loss: 0.3116\n",
      "Epoch 9/10\n",
      "267/267 - 1s - 4ms/step - f1_score: 0.6182 - loss: 0.3147 - val_f1_score: 0.6178 - val_loss: 0.3331\n",
      "Epoch 10/10\n",
      "267/267 - 1s - 4ms/step - f1_score: 0.6152 - loss: 0.3185 - val_f1_score: 0.6323 - val_loss: 0.3098\n"
     ]
    }
   ],
   "execution_count": 22
  },
  {
   "metadata": {
    "ExecuteTime": {
     "end_time": "2025-05-08T09:34:28.146659Z",
     "start_time": "2025-05-08T09:34:12.065173Z"
    }
   },
   "cell_type": "code",
   "source": "LSTM_STFT_model.train(X_train=X_train, y_train=y_train, X_val=X_val, y_val=y_val, epochs=10, verbose=2)",
   "id": "5c30cae49d752c96",
   "outputs": [
    {
     "name": "stdout",
     "output_type": "stream",
     "text": [
      "Epoch 1/10\n",
      "267/267 - 3s - 13ms/step - f1_score: 0.4927 - loss: 0.4045 - val_f1_score: 0.5501 - val_loss: 0.3294\n",
      "Epoch 2/10\n",
      "267/267 - 1s - 5ms/step - f1_score: 0.5664 - loss: 0.3246 - val_f1_score: 0.5734 - val_loss: 0.3230\n",
      "Epoch 3/10\n",
      "267/267 - 1s - 5ms/step - f1_score: 0.5853 - loss: 0.3183 - val_f1_score: 0.5547 - val_loss: 0.3152\n",
      "Epoch 4/10\n",
      "267/267 - 1s - 5ms/step - f1_score: 0.5803 - loss: 0.3218 - val_f1_score: 0.5992 - val_loss: 0.3099\n",
      "Epoch 5/10\n",
      "267/267 - 1s - 6ms/step - f1_score: 0.6040 - loss: 0.3128 - val_f1_score: 0.6159 - val_loss: 0.3151\n",
      "Epoch 6/10\n",
      "267/267 - 1s - 6ms/step - f1_score: 0.5994 - loss: 0.3120 - val_f1_score: 0.5983 - val_loss: 0.3126\n",
      "Epoch 7/10\n",
      "267/267 - 1s - 5ms/step - f1_score: 0.6032 - loss: 0.3132 - val_f1_score: 0.5980 - val_loss: 0.3070\n",
      "Epoch 8/10\n",
      "267/267 - 1s - 5ms/step - f1_score: 0.5976 - loss: 0.3144 - val_f1_score: 0.5931 - val_loss: 0.3138\n",
      "Epoch 9/10\n",
      "267/267 - 1s - 5ms/step - f1_score: 0.5966 - loss: 0.3120 - val_f1_score: 0.6064 - val_loss: 0.3107\n",
      "Epoch 10/10\n",
      "267/267 - 2s - 6ms/step - f1_score: 0.6123 - loss: 0.3088 - val_f1_score: 0.5967 - val_loss: 0.3132\n"
     ]
    }
   ],
   "execution_count": 23
  },
  {
   "metadata": {
    "ExecuteTime": {
     "end_time": "2025-05-08T09:34:45.067368Z",
     "start_time": "2025-05-08T09:34:28.176994Z"
    }
   },
   "cell_type": "code",
   "source": "LSTM_STFT_Dense_model.train(X_train=X_train, y_train=y_train, X_val=X_val, y_val=y_val, epochs=10, verbose=2)",
   "id": "8007e58e81f4c2aa",
   "outputs": [
    {
     "name": "stdout",
     "output_type": "stream",
     "text": [
      "Epoch 1/10\n",
      "267/267 - 4s - 15ms/step - f1_score: 0.4608 - loss: 0.4772 - val_f1_score: 0.4686 - val_loss: 0.3395\n",
      "Epoch 2/10\n",
      "267/267 - 1s - 5ms/step - f1_score: 0.4774 - loss: 0.3544 - val_f1_score: 0.5058 - val_loss: 0.3408\n",
      "Epoch 3/10\n",
      "267/267 - 1s - 5ms/step - f1_score: 0.5238 - loss: 0.3399 - val_f1_score: 0.5276 - val_loss: 0.3595\n",
      "Epoch 4/10\n",
      "267/267 - 1s - 5ms/step - f1_score: 0.5337 - loss: 0.3360 - val_f1_score: 0.5241 - val_loss: 0.3285\n",
      "Epoch 5/10\n",
      "267/267 - 2s - 6ms/step - f1_score: 0.5631 - loss: 0.3281 - val_f1_score: 0.5911 - val_loss: 0.3257\n",
      "Epoch 6/10\n",
      "267/267 - 1s - 5ms/step - f1_score: 0.5701 - loss: 0.3398 - val_f1_score: 0.5300 - val_loss: 0.3662\n",
      "Epoch 7/10\n",
      "267/267 - 1s - 5ms/step - f1_score: 0.5823 - loss: 0.3287 - val_f1_score: 0.6166 - val_loss: 0.3191\n",
      "Epoch 8/10\n",
      "267/267 - 2s - 6ms/step - f1_score: 0.5900 - loss: 0.3164 - val_f1_score: 0.5746 - val_loss: 0.3173\n",
      "Epoch 9/10\n",
      "267/267 - 1s - 5ms/step - f1_score: 0.5826 - loss: 0.3257 - val_f1_score: 0.5946 - val_loss: 0.3321\n",
      "Epoch 10/10\n",
      "267/267 - 1s - 6ms/step - f1_score: 0.5949 - loss: 0.3169 - val_f1_score: 0.5670 - val_loss: 0.3310\n"
     ]
    }
   ],
   "execution_count": 24
  },
  {
   "metadata": {
    "ExecuteTime": {
     "end_time": "2025-05-08T09:34:45.105479Z",
     "start_time": "2025-05-08T09:34:45.098250Z"
    }
   },
   "cell_type": "code",
   "source": "",
   "id": "991b916740bb3aa8",
   "outputs": [],
   "execution_count": null
  }
 ],
 "metadata": {
  "kernelspec": {
   "display_name": "Python 3",
   "language": "python",
   "name": "python3"
  },
  "language_info": {
   "codemirror_mode": {
    "name": "ipython",
    "version": 2
   },
   "file_extension": ".py",
   "mimetype": "text/x-python",
   "name": "python",
   "nbconvert_exporter": "python",
   "pygments_lexer": "ipython2",
   "version": "2.7.6"
  }
 },
 "nbformat": 4,
 "nbformat_minor": 5
}

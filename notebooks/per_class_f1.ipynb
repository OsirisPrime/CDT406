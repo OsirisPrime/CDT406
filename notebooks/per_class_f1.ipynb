{
 "cells": [
  {
   "metadata": {
    "ExecuteTime": {
     "end_time": "2025-05-26T07:59:12.232377Z",
     "start_time": "2025-05-26T07:59:12.223071Z"
    }
   },
   "cell_type": "code",
   "source": "from src.data.data_helper import get_raw_data_as_dataframe, segment_data",
   "id": "97138ab4cc1f3d3f",
   "outputs": [],
   "execution_count": 1
  },
  {
   "metadata": {
    "ExecuteTime": {
     "end_time": "2025-05-26T07:59:12.427527Z",
     "start_time": "2025-05-26T07:59:12.421778Z"
    }
   },
   "cell_type": "code",
   "source": [
    "ANN_v1_path      = r\"C:\\Users\\erik\\IES_codebase\\EMG_Project\\CDT406-Smart-Gripper\\models\\ANN_search\\best_ANN_models\\ANN_variant_1.keras\"\n",
    "ANN_v2_path      = r\"C:\\Users\\erik\\IES_codebase\\EMG_Project\\CDT406-Smart-Gripper\\models\\ANN_search\\best_ANN_models\\ANN_variant_2.keras\"\n",
    "ANN_STFT_v3_path = r\"C:\\Users\\erik\\IES_codebase\\EMG_Project\\CDT406-Smart-Gripper\\models\\ANN_STFT_search\\best_ANN_STFT_models\\ANN_STFT_variant_3.keras\""
   ],
   "id": "6650bfdb2f24f026",
   "outputs": [],
   "execution_count": 2
  },
  {
   "metadata": {
    "ExecuteTime": {
     "end_time": "2025-05-26T07:59:33.576386Z",
     "start_time": "2025-05-26T07:59:12.449632Z"
    }
   },
   "cell_type": "code",
   "source": [
    "from tensorflow.keras.models import load_model\n",
    "from src.models.model_components.stft_layer import STFTLayer\n",
    "\n",
    "# Load the models\n",
    "model_ANN_v1 = load_model(ANN_v1_path)\n",
    "model_ANN_v2 = load_model(ANN_v2_path)\n",
    "model_ANN_STFT_v3 = load_model(\n",
    "    ANN_STFT_v3_path,\n",
    "    custom_objects={\"STFTLayer\": STFTLayer}\n",
    ")\n",
    "\n",
    "print(\"Models successfully loaded.\")"
   ],
   "id": "5d6fff78ddc47ce6",
   "outputs": [
    {
     "name": "stdout",
     "output_type": "stream",
     "text": [
      "WARNING:tensorflow:From C:\\Users\\erik\\anaconda3\\envs\\EMG_project\\Lib\\site-packages\\keras\\src\\backend\\tensorflow\\core.py:219: The name tf.placeholder is deprecated. Please use tf.compat.v1.placeholder instead.\n",
      "\n",
      "Models successfully loaded.\n"
     ]
    }
   ],
   "execution_count": 3
  },
  {
   "metadata": {
    "ExecuteTime": {
     "end_time": "2025-05-26T07:59:33.666787Z",
     "start_time": "2025-05-26T07:59:33.603428Z"
    }
   },
   "cell_type": "code",
   "source": [
    "from src.models.model_components.preprocessor import SignalPreprocessor\n",
    "import pandas as pd\n",
    "import tensorflow as tf\n",
    "import numpy as np\n",
    "\n",
    "def get_training_data(pre_processor_variant=1):\n",
    "    raw_train, raw_val = get_raw_data_as_dataframe(validation_subjects=(1,2,3,4,5,6,7,8,9,10))\n",
    "\n",
    "    pre_processor = SignalPreprocessor(pre_processor_variant=pre_processor_variant,\n",
    "                                       low_freq=20.0,\n",
    "                                       high_freq=500.0,\n",
    "                                       fs=5000.0,\n",
    "                                       order=7,\n",
    "                                       down_sample=True)\n",
    "\n",
    "    window_length = 200 * 5  # 200 ms\n",
    "    overlap = 50 * 5\n",
    "    seg_train = segment_data(raw_train, window_length=window_length, overlap=overlap)\n",
    "    seg_val = segment_data(raw_val, window_length=window_length, overlap=overlap)\n",
    "\n",
    "    all_labels = pd.concat([seg_train['label'], seg_val['label']])\n",
    "    num_classes = all_labels.nunique()\n",
    "    y_train = tf.keras.utils.to_categorical(seg_train['label'], num_classes)\n",
    "    y_val = tf.keras.utils.to_categorical(seg_val['label'], num_classes)\n",
    "\n",
    "    X_train = np.stack(seg_train.drop(columns=['label', 'source'])['window_data'].values)\n",
    "    X_val = np.stack(seg_val.drop(columns=['label', 'source'])['window_data'].values)\n",
    "    X_train = pre_processor.batch_pre_process(X_train)\n",
    "    X_val = pre_processor.batch_pre_process(X_val)\n",
    "\n",
    "    # For ANN, we need to flatten the input if it's multidimensional\n",
    "    if len(X_train.shape) > 2:\n",
    "        X_train = X_train.reshape(X_train.shape[0], -1)\n",
    "        X_val = X_val.reshape(X_val.shape[0], -1)\n",
    "\n",
    "    input_shape = X_train.shape[1]\n",
    "    return X_train, y_train, X_val, y_val, num_classes, input_shape"
   ],
   "id": "2cbf98fd13300c06",
   "outputs": [],
   "execution_count": 4
  },
  {
   "metadata": {
    "ExecuteTime": {
     "end_time": "2025-05-26T07:59:34.372547Z",
     "start_time": "2025-05-26T07:59:33.694484Z"
    }
   },
   "cell_type": "code",
   "source": [
    "import numpy as np\n",
    "from sklearn.metrics import f1_score\n",
    "\n",
    "def evaluate_model_per_class_f1(model, pre_processor_variant):\n",
    "    # Import data using get_training_data\n",
    "    _, _, X_val, y_val, num_classes, _ = get_training_data(pre_processor_variant=pre_processor_variant)\n",
    "\n",
    "    # Predict on validation data\n",
    "    y_val_pred_prob = model.predict(X_val)\n",
    "    y_val_pred = np.argmax(y_val_pred_prob, axis=1)\n",
    "    y_val_true = np.argmax(y_val, axis=1)\n",
    "\n",
    "    # Compute per-class F1 score\n",
    "    per_class_f1 = f1_score(y_val_true, y_val_pred, average=None)\n",
    "\n",
    "    return per_class_f1[:4]"
   ],
   "id": "12f92d94fc3c9113",
   "outputs": [],
   "execution_count": 5
  },
  {
   "metadata": {
    "ExecuteTime": {
     "end_time": "2025-05-26T08:00:04.875957Z",
     "start_time": "2025-05-26T07:59:34.390093Z"
    }
   },
   "cell_type": "code",
   "source": "per_class_f1_ANN_v1 = evaluate_model_per_class_f1(model_ANN_v1, pre_processor_variant=1)",
   "id": "a9d1c3a24bc5fdf2",
   "outputs": [
    {
     "name": "stdout",
     "output_type": "stream",
     "text": [
      "\u001B[1m339/339\u001B[0m \u001B[32m━━━━━━━━━━━━━━━━━━━━\u001B[0m\u001B[37m\u001B[0m \u001B[1m2s\u001B[0m 4ms/step\n"
     ]
    }
   ],
   "execution_count": 6
  },
  {
   "metadata": {
    "ExecuteTime": {
     "end_time": "2025-05-26T08:00:39.527422Z",
     "start_time": "2025-05-26T08:00:04.916490Z"
    }
   },
   "cell_type": "code",
   "source": "per_class_f1_ANN_v2 = evaluate_model_per_class_f1(model_ANN_v2, pre_processor_variant=2)",
   "id": "ebbf8f7fe17d54de",
   "outputs": [
    {
     "name": "stdout",
     "output_type": "stream",
     "text": [
      "\u001B[1m339/339\u001B[0m \u001B[32m━━━━━━━━━━━━━━━━━━━━\u001B[0m\u001B[37m\u001B[0m \u001B[1m1s\u001B[0m 2ms/step\n"
     ]
    }
   ],
   "execution_count": 7
  },
  {
   "metadata": {
    "ExecuteTime": {
     "end_time": "2025-05-26T08:01:11.703093Z",
     "start_time": "2025-05-26T08:00:39.543551Z"
    }
   },
   "cell_type": "code",
   "source": "per_class_f1_ANN_STFT_v3 = evaluate_model_per_class_f1(model_ANN_STFT_v3, pre_processor_variant=3)",
   "id": "e40b0c68c463753d",
   "outputs": [
    {
     "name": "stdout",
     "output_type": "stream",
     "text": [
      "\u001B[1m339/339\u001B[0m \u001B[32m━━━━━━━━━━━━━━━━━━━━\u001B[0m\u001B[37m\u001B[0m \u001B[1m1s\u001B[0m 2ms/step\n"
     ]
    }
   ],
   "execution_count": 8
  },
  {
   "metadata": {
    "ExecuteTime": {
     "end_time": "2025-05-26T08:01:11.903494Z",
     "start_time": "2025-05-26T08:01:11.715534Z"
    }
   },
   "cell_type": "code",
   "source": [
    "import matplotlib.pyplot as plt\n",
    "import numpy as np\n",
    "\n",
    "# F1 scores for the three models\n",
    "f1_scores = {\n",
    "    \"ANN_v1\": per_class_f1_ANN_v1,\n",
    "    \"ANN_v2\": per_class_f1_ANN_v2,\n",
    "    \"ANN_STFT_v3\": per_class_f1_ANN_STFT_v3\n",
    "}\n",
    "\n",
    "# Calculate the average F1 score for each class\n",
    "f1_scores_per_class = np.mean(list(f1_scores.values()), axis=0)\n",
    "\n",
    "# Plot the average F1 scores per class\n",
    "plt.figure(figsize=(8, 5))\n",
    "bars = plt.bar(range(1, len(f1_scores_per_class) + 1), f1_scores_per_class, color='skyblue')\n",
    "\n",
    "# Annotate each bar with its value\n",
    "for bar in bars:\n",
    "    height = bar.get_height()\n",
    "    plt.text(bar.get_x() + bar.get_width() / 2, height, f'{height:.2f}',\n",
    "             ha='center', va='bottom', fontsize=10)\n",
    "\n",
    "plt.title(\"Average F1 Score per Class\")\n",
    "plt.ylabel(\"Average F1 Score\")\n",
    "plt.xlabel(\"Class\")\n",
    "plt.ylim(0, 1)  # Assuming F1 scores are between 0 and 1\n",
    "plt.xticks(range(1, len(f1_scores_per_class) + 1), labels=[\"Rest\", \"Grip\", \"Hold\", \"Release\"])\n",
    "plt.grid(axis='y', linestyle='--', alpha=0.7)\n",
    "plt.show()"
   ],
   "id": "eb48d8faec5512c",
   "outputs": [
    {
     "data": {
      "text/plain": [
       "<Figure size 800x500 with 1 Axes>"
      ],
      "image/png": "[encoded data removed]"
     },
     "metadata": {},
     "output_type": "display_data"
    }
   ],
   "execution_count": 9
  },
  {
   "metadata": {
    "ExecuteTime": {
     "end_time": "2025-05-26T08:01:11.922493Z",
     "start_time": "2025-05-26T08:01:11.917704Z"
    }
   },
   "cell_type": "code",
   "source": "",
   "id": "a1f831b1014ee67d",
   "outputs": [],
   "execution_count": null
  }
 ],
 "metadata": {},
 "nbformat": 4,
 "nbformat_minor": 5
}

{
 "cells": [
  {
   "cell_type": "code",
   "id": "initial_id",
   "metadata": {
    "collapsed": true,
    "ExecuteTime": {
     "end_time": "2025-05-16T12:29:59.178490Z",
     "start_time": "2025-05-16T12:29:56.913788Z"
    }
   },
   "source": [
    "import json\n",
    "from pathlib import Path\n",
    "import pandas as pd\n",
    "\n",
    "from src.utils.path_utils import get_models_dir"
   ],
   "outputs": [],
   "execution_count": 1
  },
  {
   "metadata": {
    "ExecuteTime": {
     "end_time": "2025-05-16T12:29:59.207196Z",
     "start_time": "2025-05-16T12:29:59.196828Z"
    }
   },
   "cell_type": "code",
   "source": "get_models_dir()",
   "id": "9a34805d246f0b78",
   "outputs": [
    {
     "data": {
      "text/plain": [
       "WindowsPath('C:/Users/erik/IES_codebase/EMG_Project/CDT406-Smart-Gripper/models')"
      ]
     },
     "execution_count": 2,
     "metadata": {},
     "output_type": "execute_result"
    }
   ],
   "execution_count": 2
  },
  {
   "metadata": {
    "ExecuteTime": {
     "end_time": "2025-05-16T12:29:59.612897Z",
     "start_time": "2025-05-16T12:29:59.607963Z"
    }
   },
   "cell_type": "code",
   "source": [
    "LSTM_search_folder_path = str(get_models_dir()) + \"/LSTM_search\"\n",
    "LSTM_STFT_search_folder_path = str(get_models_dir()) + \"/LSTM_STFT_search\"\n",
    "LSTM_STFT_Dense_search_folder_path = str(get_models_dir()) + \"/LSTM_STFT_Dense_search\""
   ],
   "id": "968d68d5a173dfdb",
   "outputs": [],
   "execution_count": 3
  },
  {
   "metadata": {
    "ExecuteTime": {
     "end_time": "2025-05-16T12:29:59.657927Z",
     "start_time": "2025-05-16T12:29:59.652689Z"
    }
   },
   "cell_type": "code",
   "source": [
    "variant_folders = {\n",
    "    1: \"pre_processor_variant_1\",\n",
    "    2: \"pre_processor_variant_2\",\n",
    "    3: \"pre_processor_variant_3\",\n",
    "}"
   ],
   "id": "45d9d312153791ec",
   "outputs": [],
   "execution_count": 4
  },
  {
   "metadata": {
    "ExecuteTime": {
     "end_time": "2025-05-16T12:29:59.768917Z",
     "start_time": "2025-05-16T12:29:59.760661Z"
    }
   },
   "cell_type": "code",
   "source": [
    "def load_best_trial_info(trial_folder: Path):\n",
    "    \"\"\"\n",
    "    Given a folder for a single variant containing multiple trial folders,\n",
    "    load all trial JSON files, find the best trial by val_f1_score, and return\n",
    "    a dict of best hyperparameters and metric.\n",
    "    \"\"\"\n",
    "    best_val_f1 = -float('inf')\n",
    "    best_hp = None\n",
    "    best_trial_id = None\n",
    "\n",
    "    # Each trial saved in a folder named trial_xxx, usually containing trial.json or trial_summary.json\n",
    "    for trial_subdir in trial_folder.glob(\"trial_*\"):\n",
    "        # Try to read a trial.json or trial_summary.json\n",
    "        trial_json_path = None\n",
    "        for candidate_name in [\"trial.json\", \"trial_summary.json\"]:\n",
    "            candidate_path = trial_subdir / candidate_name\n",
    "            if candidate_path.exists():\n",
    "                trial_json_path = candidate_path\n",
    "                break\n",
    "        if trial_json_path is None:\n",
    "            # no recognizable trial json\n",
    "            continue\n",
    "\n",
    "        with open(trial_json_path, 'r') as f:\n",
    "            trial_data = json.load(f)\n",
    "\n",
    "        # Extract val_f1_score metric from trial_data\n",
    "        # Key depends on file format, try common locations\n",
    "        metric = None\n",
    "        if \"metrics\" in trial_data and \"metrics\" in trial_data:\n",
    "            # Some formats store metric under 'metrics' -> 'metrics' (yes, duplicated sometimes)\n",
    "            metrics_dict = trial_data.get(\"metrics\", {})\n",
    "            if \"metrics\" in metrics_dict and \"val_f1_score\" in metrics_dict[\"metrics\"]:\n",
    "                vals = metrics_dict[\"metrics\"][\"val_f1_score\"]\n",
    "                # val_f1_score is typically a dict with 'best' or 'observations'\n",
    "                if isinstance(vals, dict) and \"best\" in vals:\n",
    "                    metric = vals[\"best\"]\n",
    "                elif isinstance(vals, list) and len(vals) > 0:\n",
    "                    metric = max(vals)\n",
    "        # fallback simpler checks\n",
    "        if metric is None:\n",
    "            # Some store in trial_data[\"score\"] or trial_data[\"best_val_f1_score\"]\n",
    "            metric = trial_data.get(\"best_val_f1_score\", None)\n",
    "        if metric is None:\n",
    "            # Sometimes under trial_data['score']\n",
    "            metric = trial_data.get(\"score\", None)\n",
    "\n",
    "        if metric is None:\n",
    "            # Could not find metric, skip trial\n",
    "            continue\n",
    "\n",
    "        # Update best if improved\n",
    "        if metric > best_val_f1:\n",
    "            best_val_f1 = metric\n",
    "            best_trial_id = trial_subdir.name\n",
    "            # Extract hyperparameters - likely under trial_data['hyperparameters'] or 'hyperparameters'\n",
    "            hp = trial_data.get(\"hyperparameters\")\n",
    "            if hp is None:\n",
    "                # sometimes under other keys - print trial_data keys for debugging if needed\n",
    "                hp = trial_data.get(\"values\") or {}\n",
    "            best_hp = hp\n",
    "\n",
    "    return best_val_f1, best_hp, best_trial_id"
   ],
   "id": "68fb8cb0cc80e8f8",
   "outputs": [],
   "execution_count": 5
  },
  {
   "metadata": {
    "ExecuteTime": {
     "end_time": "2025-05-16T12:29:59.832165Z",
     "start_time": "2025-05-16T12:29:59.824802Z"
    }
   },
   "cell_type": "code",
   "source": [
    "def print_best_hyperparameters(trial_json: dict):\n",
    "    \"\"\"\n",
    "    Given the loaded JSON dictionary from a trial file (with keys 'space' and 'values'),\n",
    "    pretty print all hyperparameters and their chosen values in a nicely formatted way.\n",
    "    \"\"\"\n",
    "    if \"space\" not in trial_json or \"values\" not in trial_json:\n",
    "        print(\"Invalid hyperparameters JSON structure.\")\n",
    "        return\n",
    "\n",
    "    space = trial_json[\"space\"]\n",
    "    values = trial_json[\"values\"]\n",
    "\n",
    "    print(\"Best Hyperparameters:\\n\")\n",
    "    for hp_def in space:\n",
    "        config = hp_def.get(\"config\", {})\n",
    "        name = config.get(\"name\", \"<unknown>\")\n",
    "        default = config.get(\"default\")\n",
    "        hp_type = hp_def.get(\"class_name\", \"<unknown>\")\n",
    "\n",
    "        # Extract the chosen value, use values dict\n",
    "        chosen_value = values.get(name, None)\n",
    "\n",
    "        # Prepare additional info string depending on hp_type\n",
    "        additional_info = \"\"\n",
    "        if hp_type == \"Float\":\n",
    "            min_val = config.get(\"min_value\")\n",
    "            max_val = config.get(\"max_value\")\n",
    "            step = config.get(\"step\")\n",
    "            sampling = config.get(\"sampling\")\n",
    "            additional_info = f\"(Float, range: {min_val} to {max_val}\"\n",
    "            if step is not None:\n",
    "                additional_info += f\", step: {step}\"\n",
    "            if sampling:\n",
    "                additional_info += f\", sampling: {sampling}\"\n",
    "            additional_info += \")\"\n",
    "        elif hp_type == \"Choice\":\n",
    "            values_list = config.get(\"values\", [])\n",
    "            additional_info = f\"(Choice, options: {values_list})\"\n",
    "        else:\n",
    "            additional_info = f\"({hp_type})\"\n",
    "\n",
    "        print(f\"- {name}: {chosen_value} {additional_info}\")\n",
    "\n",
    "    print()"
   ],
   "id": "82b8685427524041",
   "outputs": [],
   "execution_count": 6
  },
  {
   "metadata": {
    "ExecuteTime": {
     "end_time": "2025-05-16T12:30:00.917657Z",
     "start_time": "2025-05-16T12:29:59.852706Z"
    }
   },
   "cell_type": "code",
   "source": [
    "import matplotlib.pyplot as plt\n",
    "\n",
    "def plot_f1_scores(results):\n",
    "    \"\"\"\n",
    "    Given a list of result dicts, each containing at least\n",
    "    'pre_processor_variant' and 'best_val_f1_score' keys,\n",
    "    plot a bar chart of F1 scores for each variant.\n",
    "    \"\"\"\n",
    "    variants = [res['pre_processor_variant'] for res in results]\n",
    "    f1_scores = [res['best_val_f1_score'] for res in results]\n",
    "\n",
    "    plt.figure(figsize=(8, 5))\n",
    "    bars = plt.bar(variants, f1_scores, color='skyblue')\n",
    "    plt.xlabel(\"Preprocessor Variant\")\n",
    "    plt.ylabel(\"Best Validation F1 Score\")\n",
    "\n",
    "     # Use the name from the first result if present, else a default title\n",
    "    plot_name = results[0].get('name') if results and 'name' in results[0] else None\n",
    "    title = f\"Best Validation F1 Score by Preprocessor Variant\"\n",
    "    if plot_name:\n",
    "        title += f\" — {plot_name}\"\n",
    "    plt.title(title)\n",
    "\n",
    "    plt.ylim(0, max(f1_scores) * 1.1)\n",
    "    plt.xticks(variants)\n",
    "\n",
    "    # Annotate bars with the score\n",
    "    for bar, score in zip(bars, f1_scores):\n",
    "        plt.text(bar.get_x() + bar.get_width() / 2, bar.get_height() * 1.01,\n",
    "                 f\"{score:.4f}\", ha='center', va='bottom')\n",
    "\n",
    "    plt.show()"
   ],
   "id": "d1f02ba5291c7e22",
   "outputs": [],
   "execution_count": 7
  },
  {
   "metadata": {
    "ExecuteTime": {
     "end_time": "2025-05-16T12:30:00.939616Z",
     "start_time": "2025-05-16T12:30:00.932275Z"
    }
   },
   "cell_type": "code",
   "source": [
    "def get_results(folder_path, variant_folders, name=\"None\"):\n",
    "    results = []\n",
    "\n",
    "    for variant in variant_folders.items():\n",
    "        print(f\"\\n=== Preprocessor variant {variant[0]} ===\")\n",
    "\n",
    "        # Load best trial info for this variant\n",
    "        best_val_f1, best_hp, best_trial_id = load_best_trial_info(Path(folder_path + \"/\" + variant[1]))\n",
    "\n",
    "        print(f\"Best val_f1_score: {best_val_f1:.4f}\")\n",
    "        print(f\"Best trial folder: {best_trial_id}\")\n",
    "\n",
    "        if best_hp is None:\n",
    "            print(\"No hyperparameter data found.\")\n",
    "            continue\n",
    "\n",
    "        # Use the pretty print function to display best hyperparameters\n",
    "        print_best_hyperparameters(best_hp)\n",
    "\n",
    "        # Store summary info for further processing if needed\n",
    "        results.append({\n",
    "            \"pre_processor_variant\": variant[0],\n",
    "            \"best_val_f1_score\": best_val_f1,\n",
    "            \"best_trial_id\": best_trial_id,\n",
    "            \"hyperparameters\": best_hp,\n",
    "            \"name\": name\n",
    "        })\n",
    "\n",
    "\n",
    "\n",
    "    return results\n"
   ],
   "id": "a4ee4ed2e1be96ba",
   "outputs": [],
   "execution_count": 8
  },
  {
   "metadata": {
    "ExecuteTime": {
     "end_time": "2025-05-16T12:30:00.965843Z",
     "start_time": "2025-05-16T12:30:00.956587Z"
    }
   },
   "cell_type": "code",
   "source": [
    "import matplotlib.pyplot as plt\n",
    "import numpy as np\n",
    "\n",
    "\n",
    "def plot_all_results_combined(results_list):\n",
    "    \"\"\"\n",
    "    Given a list of results lists (each a list of dicts with keys:\n",
    "    - 'pre_processor_variant'\n",
    "    - 'best_val_f1_score'\n",
    "    - 'name' (to color-code)\n",
    "\n",
    "    Plot all results together in a single grouped bar plot,\n",
    "    color-coded by 'name' with legend.\n",
    "\n",
    "    This version uses only matplotlib (no seaborn).\n",
    "    \"\"\"\n",
    "    # Flatten results and extract unique variants and names\n",
    "    all_records = []\n",
    "    names = []\n",
    "    variants_set = set()\n",
    "    for res_group in results_list:\n",
    "        for res in res_group:\n",
    "            all_records.append({\n",
    "                'variant': str(res['pre_processor_variant']),\n",
    "                'f1': res['best_val_f1_score'],\n",
    "                'name': res.get('name', 'Unknown')\n",
    "            })\n",
    "            variants_set.add(str(res['pre_processor_variant']))\n",
    "            if res.get('name') not in names:\n",
    "                names.append(res.get('name', 'Unknown'))\n",
    "\n",
    "    variants = sorted(variants_set, key=int)\n",
    "    n_variants = len(variants)\n",
    "    n_names = len(names)\n",
    "\n",
    "    # Organize data into a matrix of shape (n_names, n_variants)\n",
    "    # where rows are model names and columns are variants\n",
    "    data_matrix = np.full((n_names, n_variants), np.nan)\n",
    "    for rec in all_records:\n",
    "        i = names.index(rec['name'])\n",
    "        j = variants.index(rec['variant'])\n",
    "        data_matrix[i, j] = rec['f1']\n",
    "\n",
    "    # Plot parameters\n",
    "    bar_width = 0.8 / n_names  # total width split among names\n",
    "    x = np.arange(n_variants)  # x locations for groups\n",
    "\n",
    "    # Choose distinct colors for each model name\n",
    "    cmap = plt.get_cmap('tab10')\n",
    "    colors = [cmap(i) for i in range(n_names)]\n",
    "\n",
    "    plt.figure(figsize=(10, 6))\n",
    "\n",
    "    for i in range(n_names):\n",
    "        # Positions for each group member's bar\n",
    "        bar_positions = x - 0.4 + i * bar_width + bar_width / 2\n",
    "        plt.bar(bar_positions, data_matrix[i], width=bar_width,\n",
    "                color=colors[i], label=names[i])\n",
    "\n",
    "        # Annotate bars with actual values, skip NaNs\n",
    "        for xpos, val in zip(bar_positions, data_matrix[i]):\n",
    "            if not np.isnan(val):\n",
    "                plt.text(xpos, val * 1.01, f'{val:.4f}',\n",
    "                         ha='center', va='bottom', fontsize=9)\n",
    "\n",
    "    plt.xlabel(\"Preprocessor Variant\")\n",
    "    plt.ylabel(\"Best Validation F1 Score\")\n",
    "    plt.title(\"Best Validation F1 Score by Preprocessor Variant and Model Type\")\n",
    "    plt.xticks(x, variants)\n",
    "    plt.ylim(0, np.nanmax(data_matrix) * 1.1)\n",
    "    plt.legend(title=\"Model Name\")\n",
    "    plt.tight_layout()\n",
    "    plt.show()"
   ],
   "id": "b16d484eae01eef4",
   "outputs": [],
   "execution_count": 9
  },
  {
   "metadata": {},
   "cell_type": "markdown",
   "source": "# LSTM Result",
   "id": "b8ae5fc12ff6539f"
  },
  {
   "metadata": {
    "ExecuteTime": {
     "end_time": "2025-05-16T12:30:01.010032Z",
     "start_time": "2025-05-16T12:30:00.982238Z"
    }
   },
   "cell_type": "code",
   "source": "LSTM_results = get_results(LSTM_search_folder_path, variant_folders, name=\"LSTM\")",
   "id": "c5a6c471d905fd8c",
   "outputs": [
    {
     "name": "stdout",
     "output_type": "stream",
     "text": [
      "\n",
      "=== Preprocessor variant 1 ===\n",
      "Best val_f1_score: 0.4628\n",
      "Best trial folder: trial_14\n",
      "Best Hyperparameters:\n",
      "\n",
      "- learning_rate: 0.00176133760453938 (Float, range: 1e-06 to 0.005, sampling: log)\n",
      "- optimizer: nadam (Choice, options: ['adam', 'rmsprop', 'nadam'])\n",
      "- normalization: layer (Choice, options: ['none', 'batch', 'layer'])\n",
      "- dropout: 0.1 (Float, range: 0.0 to 0.5, step: 0.1, sampling: linear)\n",
      "- recurrent_dropout: 0.1 (Float, range: 0.0 to 0.5, step: 0.1, sampling: linear)\n",
      "- act_dense: relu (Choice, options: ['tanh', 'relu'])\n",
      "- act_lstm: relu (Choice, options: ['tanh', 'relu'])\n",
      "- batch_size: 32 (Choice, options: [32, 64, 128, 256, 512])\n",
      "\n",
      "\n",
      "=== Preprocessor variant 2 ===\n",
      "Best val_f1_score: 0.4643\n",
      "Best trial folder: trial_02\n",
      "Best Hyperparameters:\n",
      "\n",
      "- learning_rate: 0.0006728773788212035 (Float, range: 1e-06 to 0.005, sampling: log)\n",
      "- optimizer: rmsprop (Choice, options: ['adam', 'rmsprop', 'nadam'])\n",
      "- normalization: none (Choice, options: ['none', 'batch', 'layer'])\n",
      "- dropout: 0.2 (Float, range: 0.0 to 0.5, step: 0.1, sampling: linear)\n",
      "- recurrent_dropout: 0.2 (Float, range: 0.0 to 0.5, step: 0.1, sampling: linear)\n",
      "- act_dense: relu (Choice, options: ['tanh', 'relu'])\n",
      "- act_lstm: relu (Choice, options: ['tanh', 'relu'])\n",
      "- batch_size: 64 (Choice, options: [32, 64, 128, 256, 512])\n",
      "\n",
      "\n",
      "=== Preprocessor variant 3 ===\n",
      "Best val_f1_score: 0.3917\n",
      "Best trial folder: trial_05\n",
      "Best Hyperparameters:\n",
      "\n",
      "- learning_rate: 0.00011139355914003607 (Float, range: 1e-06 to 0.005, sampling: log)\n",
      "- optimizer: rmsprop (Choice, options: ['adam', 'rmsprop', 'nadam'])\n",
      "- normalization: batch (Choice, options: ['none', 'batch', 'layer'])\n",
      "- dropout: 0.1 (Float, range: 0.0 to 0.5, step: 0.1, sampling: linear)\n",
      "- recurrent_dropout: 0.4 (Float, range: 0.0 to 0.5, step: 0.1, sampling: linear)\n",
      "- act_dense: relu (Choice, options: ['tanh', 'relu'])\n",
      "- act_lstm: relu (Choice, options: ['tanh', 'relu'])\n",
      "- batch_size: 32 (Choice, options: [32, 64, 128, 256, 512])\n",
      "\n"
     ]
    }
   ],
   "execution_count": 10
  },
  {
   "metadata": {
    "ExecuteTime": {
     "end_time": "2025-05-16T12:30:01.249872Z",
     "start_time": "2025-05-16T12:30:01.025939Z"
    }
   },
   "cell_type": "code",
   "source": "plot_f1_scores(LSTM_results)",
   "id": "b0c5fa15f3c237ac",
   "outputs": [
    {
     "data": {
      "text/plain": [
       "<Figure size 800x500 with 1 Axes>"
      ],
      "image/png": "[encoded data removed]"
     },
     "metadata": {},
     "output_type": "display_data"
    }
   ],
   "execution_count": 11
  },
  {
   "metadata": {},
   "cell_type": "markdown",
   "source": "# LSTM STFT Result",
   "id": "b5254e41a7009094"
  },
  {
   "metadata": {
    "ExecuteTime": {
     "end_time": "2025-05-16T12:30:01.314146Z",
     "start_time": "2025-05-16T12:30:01.290030Z"
    }
   },
   "cell_type": "code",
   "source": "LSTM_STFT_results = get_results(LSTM_STFT_search_folder_path, variant_folders, name=\"LSTM STFT\")",
   "id": "d923b03be179cde",
   "outputs": [
    {
     "name": "stdout",
     "output_type": "stream",
     "text": [
      "\n",
      "=== Preprocessor variant 1 ===\n",
      "Best val_f1_score: 0.4735\n",
      "Best trial folder: trial_10\n",
      "Best Hyperparameters:\n",
      "\n",
      "- learning_rate: 0.0022816706669633842 (Float, range: 1e-06 to 0.005, sampling: log)\n",
      "- optimizer: rmsprop (Choice, options: ['adam', 'rmsprop', 'nadam'])\n",
      "- normalization: layer (Choice, options: ['none', 'batch', 'layer'])\n",
      "- dropout: 0.30000000000000004 (Float, range: 0.0 to 0.5, step: 0.1, sampling: linear)\n",
      "- recurrent_dropout: 0.30000000000000004 (Float, range: 0.0 to 0.5, step: 0.1, sampling: linear)\n",
      "- act_dense: tanh (Choice, options: ['tanh', 'relu'])\n",
      "- act_lstm: relu (Choice, options: ['tanh', 'relu'])\n",
      "- stft_frame_length: 224 (Int)\n",
      "- stft_frame_step: 28 (Int)\n",
      "- batch_size: 32 (Choice, options: [32, 64, 128, 256, 512])\n",
      "\n",
      "\n",
      "=== Preprocessor variant 2 ===\n",
      "Best val_f1_score: 0.4953\n",
      "Best trial folder: trial_00\n",
      "Best Hyperparameters:\n",
      "\n",
      "- learning_rate: 0.00027721956027328273 (Float, range: 1e-06 to 0.005, sampling: log)\n",
      "- optimizer: rmsprop (Choice, options: ['adam', 'rmsprop', 'nadam'])\n",
      "- normalization: none (Choice, options: ['none', 'batch', 'layer'])\n",
      "- dropout: 0.4 (Float, range: 0.0 to 0.5, step: 0.1, sampling: linear)\n",
      "- recurrent_dropout: 0.0 (Float, range: 0.0 to 0.5, step: 0.1, sampling: linear)\n",
      "- act_dense: relu (Choice, options: ['tanh', 'relu'])\n",
      "- act_lstm: relu (Choice, options: ['tanh', 'relu'])\n",
      "- stft_frame_length: 64 (Int)\n",
      "- stft_frame_step: 14 (Int)\n",
      "- batch_size: 32 (Choice, options: [32, 64, 128, 256, 512])\n",
      "\n",
      "\n",
      "=== Preprocessor variant 3 ===\n",
      "Best val_f1_score: 0.5372\n",
      "Best trial folder: trial_00\n",
      "Best Hyperparameters:\n",
      "\n",
      "- learning_rate: 0.0004771061466586742 (Float, range: 1e-06 to 0.005, sampling: log)\n",
      "- optimizer: nadam (Choice, options: ['adam', 'rmsprop', 'nadam'])\n",
      "- normalization: layer (Choice, options: ['none', 'batch', 'layer'])\n",
      "- dropout: 0.30000000000000004 (Float, range: 0.0 to 0.5, step: 0.1, sampling: linear)\n",
      "- recurrent_dropout: 0.30000000000000004 (Float, range: 0.0 to 0.5, step: 0.1, sampling: linear)\n",
      "- act_dense: relu (Choice, options: ['tanh', 'relu'])\n",
      "- act_lstm: tanh (Choice, options: ['tanh', 'relu'])\n",
      "- stft_frame_length: 87 (Int)\n",
      "- stft_frame_step: 27 (Int)\n",
      "- batch_size: 32 (Choice, options: [32, 64, 128, 256, 512])\n",
      "\n"
     ]
    }
   ],
   "execution_count": 12
  },
  {
   "metadata": {
    "ExecuteTime": {
     "end_time": "2025-05-16T12:30:01.494833Z",
     "start_time": "2025-05-16T12:30:01.339775Z"
    }
   },
   "cell_type": "code",
   "source": "plot_f1_scores(LSTM_STFT_results)",
   "id": "b17b4625c8a1f03a",
   "outputs": [
    {
     "data": {
      "text/plain": [
       "<Figure size 800x500 with 1 Axes>"
      ],
      "image/png": "[encoded data removed]"
     },
     "metadata": {},
     "output_type": "display_data"
    }
   ],
   "execution_count": 13
  },
  {
   "metadata": {},
   "cell_type": "markdown",
   "source": "# LSTM STFT Dense Result",
   "id": "9d5524e3f2c35089"
  },
  {
   "metadata": {
    "ExecuteTime": {
     "end_time": "2025-05-16T12:30:01.558015Z",
     "start_time": "2025-05-16T12:30:01.525017Z"
    }
   },
   "cell_type": "code",
   "source": "LSTM_STFT_Dense_results = get_results(LSTM_STFT_Dense_search_folder_path, variant_folders, name=\"LSTM STFT Dense\")",
   "id": "5c98f8e960833ff",
   "outputs": [
    {
     "name": "stdout",
     "output_type": "stream",
     "text": [
      "\n",
      "=== Preprocessor variant 1 ===\n",
      "Best val_f1_score: 0.3913\n",
      "Best trial folder: trial_13\n",
      "Best Hyperparameters:\n",
      "\n",
      "- learning_rate: 0.0005814857171130009 (Float, range: 1e-06 to 0.005, sampling: log)\n",
      "- optimizer: adam (Choice, options: ['adam', 'rmsprop', 'nadam'])\n",
      "- normalization: batch (Choice, options: ['none', 'batch', 'layer'])\n",
      "- dropout: 0.2 (Float, range: 0.0 to 0.5, step: 0.1, sampling: linear)\n",
      "- recurrent_dropout: 0.4 (Float, range: 0.0 to 0.5, step: 0.1, sampling: linear)\n",
      "- act_dense: tanh (Choice, options: ['tanh', 'relu'])\n",
      "- act_lstm: tanh (Choice, options: ['tanh', 'relu'])\n",
      "- stft_frame_length: 229 (Int)\n",
      "- stft_frame_step: 30 (Int)\n",
      "- batch_size: 256 (Choice, options: [32, 64, 128, 256, 512])\n",
      "\n",
      "\n",
      "=== Preprocessor variant 2 ===\n",
      "Best val_f1_score: 0.4503\n",
      "Best trial folder: trial_11\n",
      "Best Hyperparameters:\n",
      "\n",
      "- learning_rate: 0.0025129173402478745 (Float, range: 1e-06 to 0.005, sampling: log)\n",
      "- optimizer: rmsprop (Choice, options: ['adam', 'rmsprop', 'nadam'])\n",
      "- normalization: layer (Choice, options: ['none', 'batch', 'layer'])\n",
      "- dropout: 0.0 (Float, range: 0.0 to 0.5, step: 0.1, sampling: linear)\n",
      "- recurrent_dropout: 0.0 (Float, range: 0.0 to 0.5, step: 0.1, sampling: linear)\n",
      "- act_dense: relu (Choice, options: ['tanh', 'relu'])\n",
      "- act_lstm: tanh (Choice, options: ['tanh', 'relu'])\n",
      "- stft_frame_length: 253 (Int)\n",
      "- stft_frame_step: 25 (Int)\n",
      "- batch_size: 256 (Choice, options: [32, 64, 128, 256, 512])\n",
      "\n",
      "\n",
      "=== Preprocessor variant 3 ===\n",
      "Best val_f1_score: 0.4813\n",
      "Best trial folder: trial_06\n",
      "Best Hyperparameters:\n",
      "\n",
      "- learning_rate: 0.0005141257136981537 (Float, range: 1e-06 to 0.005, sampling: log)\n",
      "- optimizer: rmsprop (Choice, options: ['adam', 'rmsprop', 'nadam'])\n",
      "- normalization: layer (Choice, options: ['none', 'batch', 'layer'])\n",
      "- dropout: 0.0 (Float, range: 0.0 to 0.5, step: 0.1, sampling: linear)\n",
      "- recurrent_dropout: 0.1 (Float, range: 0.0 to 0.5, step: 0.1, sampling: linear)\n",
      "- act_dense: tanh (Choice, options: ['tanh', 'relu'])\n",
      "- act_lstm: relu (Choice, options: ['tanh', 'relu'])\n",
      "- stft_frame_length: 59 (Int)\n",
      "- stft_frame_step: 9 (Int)\n",
      "- batch_size: 256 (Choice, options: [32, 64, 128, 256, 512])\n",
      "\n"
     ]
    }
   ],
   "execution_count": 14
  },
  {
   "metadata": {
    "ExecuteTime": {
     "end_time": "2025-05-16T12:30:01.755120Z",
     "start_time": "2025-05-16T12:30:01.616549Z"
    }
   },
   "cell_type": "code",
   "source": "plot_f1_scores(LSTM_STFT_Dense_results)",
   "id": "b91c7a92994a79a3",
   "outputs": [
    {
     "data": {
      "text/plain": [
       "<Figure size 800x500 with 1 Axes>"
      ],
      "image/png": "[encoded data removed]"
     },
     "metadata": {},
     "output_type": "display_data"
    }
   ],
   "execution_count": 15
  },
  {
   "metadata": {},
   "cell_type": "markdown",
   "source": "# Total Results",
   "id": "2b8102fe8b8a277a"
  },
  {
   "metadata": {
    "ExecuteTime": {
     "end_time": "2025-05-16T12:30:02.031356Z",
     "start_time": "2025-05-16T12:30:01.795658Z"
    }
   },
   "cell_type": "code",
   "source": "plot_all_results_combined([LSTM_results, LSTM_STFT_results, LSTM_STFT_Dense_results])",
   "id": "3440e197e877c8d4",
   "outputs": [
    {
     "data": {
      "text/plain": [
       "<Figure size 1000x600 with 1 Axes>"
      ],
      "image/png": "[encoded data removed]"
     },
     "metadata": {},
     "output_type": "display_data"
    }
   ],
   "execution_count": 16
  },
  {
   "metadata": {
    "ExecuteTime": {
     "end_time": "2025-05-16T12:30:02.053299Z",
     "start_time": "2025-05-16T12:30:02.049783Z"
    }
   },
   "cell_type": "code",
   "source": "",
   "id": "82d622b5a52af4f9",
   "outputs": [],
   "execution_count": null
  }
 ],
 "metadata": {
  "kernelspec": {
   "display_name": "Python 3",
   "language": "python",
   "name": "python3"
  },
  "language_info": {
   "codemirror_mode": {
    "name": "ipython",
    "version": 2
   },
   "file_extension": ".py",
   "mimetype": "text/x-python",
   "name": "python",
   "nbconvert_exporter": "python",
   "pygments_lexer": "ipython2",
   "version": "2.7.6"
  }
 },
 "nbformat": 4,
 "nbformat_minor": 5
}

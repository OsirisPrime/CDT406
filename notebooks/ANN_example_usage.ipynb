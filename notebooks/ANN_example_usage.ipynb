{
 "cells": [
  {
   "cell_type": "code",
   "id": "initial_id",
   "metadata": {
    "collapsed": true,
    "ExecuteTime": {
     "end_time": "2025-04-28T09:06:13.156038Z",
     "start_time": "2025-04-28T09:06:06.448626Z"
    }
   },
   "source": "from src.models.example_ANN import SimpleANN",
   "outputs": [],
   "execution_count": 1
  },
  {
   "metadata": {
    "ExecuteTime": {
     "end_time": "2025-04-28T09:07:01.637144Z",
     "start_time": "2025-04-28T09:07:00.297212Z"
    }
   },
   "cell_type": "code",
   "source": "SimpleANN.train()",
   "id": "7cb6bf339fc00c99",
   "outputs": [
    {
     "ename": "TypeError",
     "evalue": "SimpleANN.train() missing 5 required positional arguments: 'self', 'X_train', 'y_train', 'X_val', and 'y_val'",
     "output_type": "error",
     "traceback": [
      "\u001B[31m---------------------------------------------------------------------------\u001B[39m",
      "\u001B[31mTypeError\u001B[39m                                 Traceback (most recent call last)",
      "\u001B[36mCell\u001B[39m\u001B[36m \u001B[39m\u001B[32mIn[3]\u001B[39m\u001B[32m, line 1\u001B[39m\n\u001B[32m----> \u001B[39m\u001B[32m1\u001B[39m SimpleANN.train()\n",
      "\u001B[31mTypeError\u001B[39m: SimpleANN.train() missing 5 required positional arguments: 'self', 'X_train', 'y_train', 'X_val', and 'y_val'"
     ]
    }
   ],
   "execution_count": 3
  },
  {
   "metadata": {},
   "cell_type": "code",
   "outputs": [],
   "execution_count": null,
   "source": "",
   "id": "68734b286c3dc90b"
  }
 ],
 "metadata": {
  "kernelspec": {
   "display_name": "Python 3",
   "language": "python",
   "name": "python3"
  },
  "language_info": {
   "codemirror_mode": {
    "name": "ipython",
    "version": 2
   },
   "file_extension": ".py",
   "mimetype": "text/x-python",
   "name": "python",
   "nbconvert_exporter": "python",
   "pygments_lexer": "ipython2",
   "version": "2.7.6"
  }
 },
 "nbformat": 4,
 "nbformat_minor": 5
}

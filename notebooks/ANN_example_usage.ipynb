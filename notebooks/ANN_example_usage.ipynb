{
 "cells": [
  {
   "cell_type": "code",
   "id": "initial_id",
   "metadata": {
    "collapsed": true,
    "ExecuteTime": {
     "end_time": "2025-04-28T09:14:04.400770Z",
     "start_time": "2025-04-28T09:14:00.332692Z"
    }
   },
   "source": "from src.models.example_ANN import SimpleANN",
   "outputs": [],
   "execution_count": 1
  },
  {
   "metadata": {
    "ExecuteTime": {
     "end_time": "2025-04-28T09:14:06.891325Z",
     "start_time": "2025-04-28T09:14:06.878564Z"
    }
   },
   "cell_type": "code",
   "source": "SimpleANN",
   "id": "7cb6bf339fc00c99",
   "outputs": [
    {
     "data": {
      "text/plain": [
       "src.models.example_ANN.SimpleANN"
      ]
     },
     "execution_count": 3,
     "metadata": {},
     "output_type": "execute_result"
    }
   ],
   "execution_count": 3
  },
  {
   "metadata": {},
   "cell_type": "code",
   "outputs": [],
   "execution_count": null,
   "source": "",
   "id": "68734b286c3dc90b"
  },
  {
   "metadata": {},
   "cell_type": "code",
   "outputs": [],
   "execution_count": null,
   "source": [
    "import pandas as pd\n",
    "import numpy as np\n",
    "\n",
    "npz = np.load('/path/to/npz.npz')\n",
    "df= pd.DataFrame.from_dict({item: npz[item] for item in npz.files}, orient='index')"
   ],
   "id": "96d9264b61f4b14a"
  }
 ],
 "metadata": {
  "kernelspec": {
   "display_name": "Python 3",
   "language": "python",
   "name": "python3"
  },
  "language_info": {
   "codemirror_mode": {
    "name": "ipython",
    "version": 2
   },
   "file_extension": ".py",
   "mimetype": "text/x-python",
   "name": "python",
   "nbconvert_exporter": "python",
   "pygments_lexer": "ipython2",
   "version": "2.7.6"
  }
 },
 "nbformat": 4,
 "nbformat_minor": 5
}

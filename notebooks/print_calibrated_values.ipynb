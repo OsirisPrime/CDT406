{
 "cells": [
  {
   "metadata": {
    "ExecuteTime": {
     "end_time": "2025-05-19T12:07:15.263638Z",
     "start_time": "2025-05-19T12:07:15.240633Z"
    }
   },
   "cell_type": "code",
   "source": [
    "# Pre-processing functions\n",
    "from src.data.data_helper import get_raw_data_as_dataframe\n",
    "from src.models.model_components.preprocessor import SignalPreprocessor"
   ],
   "id": "c133e5bc81e46005",
   "outputs": [],
   "execution_count": 24
  },
  {
   "metadata": {
    "ExecuteTime": {
     "end_time": "2025-05-19T12:07:34.372350Z",
     "start_time": "2025-05-19T12:07:15.350658Z"
    }
   },
   "cell_type": "code",
   "source": [
    "raw_train, raw_val = get_raw_data_as_dataframe(\n",
    "    validation_subjects=(1,2)\n",
    ")"
   ],
   "id": "2c0f00e5a91aebea",
   "outputs": [],
   "execution_count": 25
  },
  {
   "metadata": {
    "ExecuteTime": {
     "end_time": "2025-05-19T12:07:34.498385Z",
     "start_time": "2025-05-19T12:07:34.456375Z"
    }
   },
   "cell_type": "code",
   "source": [
    "# Initialize the preprocessor1\n",
    "pre_processor1 = SignalPreprocessor(\n",
    "    pre_processor_variant=1,\n",
    "    low_freq=20.0,\n",
    "    high_freq=500.0,\n",
    "    fs=5000.0,\n",
    "    order=7\n",
    ")\n",
    "\n",
    "# Initialize the preprocessor2\n",
    "pre_processor2 = SignalPreprocessor(\n",
    "    pre_processor_variant=2,\n",
    "    low_freq=20.0,\n",
    "    high_freq=500.0,\n",
    "    fs=5000.0,\n",
    "    order=7\n",
    ")\n",
    "\n",
    "# Initialize the preprocessor3\n",
    "pre_processor3 = SignalPreprocessor(\n",
    "    pre_processor_variant=3,\n",
    "    low_freq=20.0,\n",
    "    high_freq=500.0,\n",
    "    fs=5000.0,\n",
    "    order=7\n",
    ")"
   ],
   "id": "5496e20ff513177e",
   "outputs": [],
   "execution_count": 26
  },
  {
   "metadata": {
    "ExecuteTime": {
     "end_time": "2025-05-19T12:07:52.839893Z",
     "start_time": "2025-05-19T12:07:34.568400Z"
    }
   },
   "cell_type": "code",
   "source": [
    "# Calibrate the preprocessor\n",
    "variance_1 = pre_processor1.calibrate(raw_train)\n",
    "variance_2 = pre_processor2.calibrate(raw_train)\n",
    "variance_3 = pre_processor3.calibrate(raw_train)"
   ],
   "id": "a21794b090a2389f",
   "outputs": [],
   "execution_count": 27
  },
  {
   "metadata": {
    "ExecuteTime": {
     "end_time": "2025-05-19T12:07:52.918911Z",
     "start_time": "2025-05-19T12:07:52.894901Z"
    }
   },
   "cell_type": "code",
   "source": "variance_1",
   "id": "af71795682ef944f",
   "outputs": [
    {
     "data": {
      "text/plain": [
       "np.float64(0.0035935865169082993)"
      ]
     },
     "execution_count": 28,
     "metadata": {},
     "output_type": "execute_result"
    }
   ],
   "execution_count": 28
  },
  {
   "metadata": {
    "ExecuteTime": {
     "end_time": "2025-05-19T12:07:53.302993Z",
     "start_time": "2025-05-19T12:07:53.276987Z"
    }
   },
   "cell_type": "code",
   "source": "variance_2",
   "id": "d2ac896c7549e595",
   "outputs": [
    {
     "data": {
      "text/plain": [
       "np.float64(0.004820291414145334)"
      ]
     },
     "execution_count": 29,
     "metadata": {},
     "output_type": "execute_result"
    }
   ],
   "execution_count": 29
  },
  {
   "metadata": {
    "ExecuteTime": {
     "end_time": "2025-05-19T12:07:53.446026Z",
     "start_time": "2025-05-19T12:07:53.432023Z"
    }
   },
   "cell_type": "code",
   "source": "variance_3",
   "id": "117e0c353cbe5bfe",
   "outputs": [
    {
     "data": {
      "text/plain": [
       "np.float64(0.006385202366156638)"
      ]
     },
     "execution_count": 30,
     "metadata": {},
     "output_type": "execute_result"
    }
   ],
   "execution_count": 30
  }
 ],
 "metadata": {
  "kernelspec": {
   "display_name": "Python 3",
   "language": "python",
   "name": "python3"
  },
  "language_info": {
   "codemirror_mode": {
    "name": "ipython",
    "version": 2
   },
   "file_extension": ".py",
   "mimetype": "text/x-python",
   "name": "python",
   "nbconvert_exporter": "python",
   "pygments_lexer": "ipython2",
   "version": "2.7.6"
  }
 },
 "nbformat": 4,
 "nbformat_minor": 5
}

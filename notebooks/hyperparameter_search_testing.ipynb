{
 "cells": [
  {
   "metadata": {
    "ExecuteTime": {
     "end_time": "2025-05-13T09:52:41.714030Z",
     "start_time": "2025-05-13T09:52:41.708030Z"
    }
   },
   "cell_type": "code",
   "source": [
    "import numpy as np\n",
    "import tensorflow as tf\n",
    "import pandas as pd\n",
    "\n",
    "# Pre-processing functions\n",
    "from src.data.data_helper import get_raw_data_as_dataframe\n",
    "from src.models.preprocessing.preprocessor import SignalPreprocessor\n",
    "from src.data.data_helper import segement_data\n",
    "\n",
    "# Model functions\n",
    "from src.models.LSTM.LSTM import LSTM\n",
    "from src.models.LSTM_STFT.LSTM_STFT import LSTM_STFT\n",
    "from src.models.LSTM_STFT_Dense.LSTM_STFT_Dense import LSTM_STFT_Dense"
   ],
   "id": "f41472cd74952d54",
   "outputs": [],
   "execution_count": 6
  },
  {
   "metadata": {
    "ExecuteTime": {
     "end_time": "2025-05-13T09:52:42.551277Z",
     "start_time": "2025-05-13T09:52:42.544910Z"
    }
   },
   "cell_type": "code",
   "source": [
    "def get_training_data():\n",
    "    raw_train, raw_val = get_raw_data_as_dataframe(\n",
    "        validation_subjects=(1,2)\n",
    "    )\n",
    "\n",
    "    # Initialize the preprocessor\n",
    "    pre_processor = SignalPreprocessor(\n",
    "        low_freq=20.0,\n",
    "        high_freq=500.0,\n",
    "        fs=5000.0,\n",
    "        order=7\n",
    "    )\n",
    "    # Calibrate the preprocessor\n",
    "    pre_processor.calibrate(raw_train)\n",
    "\n",
    "    window_length=200 * 5\n",
    "    overlap=50 * 5\n",
    "\n",
    "    seg_train = segement_data(\n",
    "        raw_train, window_length=window_length, overlap=overlap\n",
    "    )\n",
    "    seg_val = segement_data(\n",
    "        raw_val,   window_length=window_length, overlap=overlap\n",
    "    )\n",
    "\n",
    "    all_labels = pd.concat([seg_train['label'], seg_val['label']])\n",
    "    num_classes = all_labels.nunique()\n",
    "\n",
    "    y_train = tf.keras.utils.to_categorical(\n",
    "        seg_train['label'].values, num_classes=num_classes\n",
    "    )\n",
    "    y_val = tf.keras.utils.to_categorical(\n",
    "        seg_val['label'].values,  num_classes=num_classes\n",
    "    )\n",
    "\n",
    "    X_train = np.stack(seg_train.drop(columns=['label', 'source'])['window_data'].values)\n",
    "    X_val   = np.stack(seg_val.drop(columns=['label', 'source'])['window_data'].values)\n",
    "\n",
    "    X_train = pre_processor.batch_pre_process(X_train)\n",
    "    X_val   = pre_processor.batch_pre_process(X_val)\n",
    "\n",
    "    input_shape = X_train.shape[1]\n",
    "\n",
    "    return X_train, y_train, X_val, y_val, num_classes, input_shape"
   ],
   "id": "305ae0daa69fab3b",
   "outputs": [],
   "execution_count": 7
  },
  {
   "metadata": {
    "ExecuteTime": {
     "end_time": "2025-05-13T09:53:04.081548Z",
     "start_time": "2025-05-13T09:52:44.228416Z"
    }
   },
   "cell_type": "code",
   "source": "X_train, y_train, X_val, y_val, num_classes, input_shape = get_training_data()",
   "id": "19c8ec7c01c59989",
   "outputs": [],
   "execution_count": 8
  },
  {
   "metadata": {
    "ExecuteTime": {
     "end_time": "2025-05-13T09:53:16.283334Z",
     "start_time": "2025-05-13T09:53:16.145056Z"
    }
   },
   "cell_type": "code",
   "source": "import keras_tuner as kt",
   "id": "196c98fba052276e",
   "outputs": [],
   "execution_count": 9
  },
  {
   "metadata": {
    "ExecuteTime": {
     "end_time": "2025-05-13T09:53:16.370752Z",
     "start_time": "2025-05-13T09:53:16.362623Z"
    }
   },
   "cell_type": "code",
   "source": [
    "class LSTMHyperModel(kt.HyperModel):\n",
    "\n",
    "    def __init__(self, input_shape, num_classes):\n",
    "        self.input_shape = input_shape\n",
    "        self.num_classes = num_classes\n",
    "\n",
    "    # ----------------- build -----------------------------------------\n",
    "    def build(self, hp):\n",
    "        lr   = hp.Choice('learning_rate',\n",
    "                         values=[1e-2, 2e-2, 5e-2, 1e-3, 2e-3, 5e-3, 1e-4, 2e-4, 5e-4])\n",
    "\n",
    "        opt  = hp.Choice('optimizer',\n",
    "                         values=['adam', 'rmsprop', 'nadam'])\n",
    "\n",
    "        norm = hp.Choice('normalization',\n",
    "                         values=['none', 'batch', 'layer'])\n",
    "\n",
    "        # We only declare batch_size here; we'll use it in fit().\n",
    "        hp.Choice('batch_size', values=[32, 64, 128, 256, 512])\n",
    "\n",
    "        model = LSTM(self.input_shape,\n",
    "                     self.num_classes,\n",
    "                     learning_rate=lr,\n",
    "                     optimizer=opt,\n",
    "                     normalization=norm).get_model()\n",
    "        return model\n",
    "\n",
    "    # ----------------- fit -------------------------------------------\n",
    "    def fit(self, hp, model, X_train, y_train, X_val, y_val, **kwargs):\n",
    "        \"\"\"\n",
    "        Called by the tuner for every trial.  We inject the per-trial\n",
    "        batch_size coming from hp.\n",
    "        \"\"\"\n",
    "        batch_size = hp.get('batch_size')\n",
    "        return model.fit(\n",
    "            X_train, y_train,\n",
    "            validation_data=(X_val, y_val),\n",
    "            batch_size=batch_size,\n",
    "            epochs=kwargs.get('epochs', 10),\n",
    "            verbose=kwargs.get('verbose', 2)\n",
    "        )"
   ],
   "id": "c79576dba368e314",
   "outputs": [],
   "execution_count": 10
  },
  {
   "metadata": {
    "ExecuteTime": {
     "end_time": "2025-05-13T09:53:18.324680Z",
     "start_time": "2025-05-13T09:53:18.319680Z"
    }
   },
   "cell_type": "code",
   "source": [
    "stop_early = tf.keras.callbacks.EarlyStopping(\n",
    "    monitor='val_f1_score',      # metric name Keras assigns: ‘f1_score’\n",
    "    mode='max',                  # we want to maximise it\n",
    "    patience=5,\n",
    "    restore_best_weights=True)"
   ],
   "id": "3b49c0f097fba9f",
   "outputs": [],
   "execution_count": 11
  },
  {
   "metadata": {
    "ExecuteTime": {
     "end_time": "2025-05-13T09:53:19.551712Z",
     "start_time": "2025-05-13T09:53:19.546709Z"
    }
   },
   "cell_type": "code",
   "source": "hypermodel = LSTMHyperModel(input_shape, num_classes)",
   "id": "58ec55430db62dc4",
   "outputs": [],
   "execution_count": 12
  },
  {
   "metadata": {
    "ExecuteTime": {
     "end_time": "2025-05-13T09:53:19.764535Z",
     "start_time": "2025-05-13T09:53:19.752639Z"
    }
   },
   "cell_type": "code",
   "source": [
    "from src.utils.path_utils import get_models_dir\n",
    "\n",
    "model_dir = get_models_dir() / \"LSTM_search\"\n",
    "model_dir"
   ],
   "id": "98f2f625c1de8688",
   "outputs": [
    {
     "data": {
      "text/plain": [
       "WindowsPath('C:/Users/erik/IES_codebase/EMG_Project/CDT406-Smart-Gripper/models/LSTM_search')"
      ]
     },
     "execution_count": 13,
     "metadata": {},
     "output_type": "execute_result"
    }
   ],
   "execution_count": 13
  },
  {
   "metadata": {
    "ExecuteTime": {
     "end_time": "2025-05-13T09:53:24.409311Z",
     "start_time": "2025-05-13T09:53:24.295581Z"
    }
   },
   "cell_type": "code",
   "source": [
    "tuner = kt.BayesianOptimization(\n",
    "    hypermodel,\n",
    "    objective = kt.Objective(\"val_f1_score\", direction=\"max\"),\n",
    "    max_trials=3,\n",
    "    directory=model_dir,\n",
    "    project_name=\"baseline_v2\",\n",
    "    overwrite=True\n",
    ")"
   ],
   "id": "d526ca1e149121df",
   "outputs": [],
   "execution_count": 14
  },
  {
   "metadata": {},
   "cell_type": "code",
   "source": [
    "tuner.search(X_train, y_train,\n",
    "             X_val=X_val, y_val=y_val,\n",
    "             callbacks=[stop_early],\n",
    "             epochs=30,\n",
    "             verbose=2)"
   ],
   "id": "c643dfb1ea10de35",
   "execution_count": 15,
   "outputs": [
    {
     "name": "stdout",
     "output_type": "stream",
     "text": [
      "Trial 3 Complete [00h 00m 16s]\n",
      "val_f1_score: 0.5690332651138306\n",
      "\n",
      "Best val_f1_score So Far: 0.5690332651138306\n",
      "Total elapsed time: 00h 00m 50s\n"
     ]
    }
   ]
  },
  {
   "metadata": {
    "ExecuteTime": {
     "end_time": "2025-05-13T09:54:15.987631Z",
     "start_time": "2025-05-13T09:54:15.982209Z"
    }
   },
   "cell_type": "code",
   "source": [
    "# Get the optimal hyperparameters\n",
    "best_hps=tuner.get_best_hyperparameters(num_trials=1)[0]"
   ],
   "id": "d0852abe3e47bf7c",
   "outputs": [],
   "execution_count": 16
  },
  {
   "metadata": {
    "ExecuteTime": {
     "end_time": "2025-05-13T09:54:16.018558Z",
     "start_time": "2025-05-13T09:54:16.011166Z"
    }
   },
   "cell_type": "code",
   "source": [
    "# Retrieve the best trial’s hyper-parameters\n",
    "best_hps = tuner.get_best_hyperparameters(num_trials=1)[0]\n",
    "\n",
    "print(f\"\"\"\n",
    "The hyperparameter search is complete.\n",
    "\n",
    "Optimal learning rate  : {best_hps.get('learning_rate')}\n",
    "Optimal optimizer      : {best_hps.get('optimizer')}\n",
    "Optimal normalization  : {best_hps.get('normalization')}\n",
    "Optimal batch size     : {best_hps.get('batch_size')}\n",
    "\"\"\")"
   ],
   "id": "6b7b54b5a9f6afdb",
   "outputs": [
    {
     "name": "stdout",
     "output_type": "stream",
     "text": [
      "\n",
      "The hyperparameter search is complete.\n",
      "\n",
      "Optimal learning rate  : 0.0001\n",
      "Optimal optimizer      : nadam\n",
      "Optimal normalization  : batch\n",
      "Optimal batch size     : 256\n",
      "\n"
     ]
    }
   ],
   "execution_count": 17
  },
  {
   "metadata": {},
   "cell_type": "code",
   "source": "",
   "id": "a783b77ad3036da0",
   "outputs": [],
   "execution_count": null
  }
 ],
 "metadata": {},
 "nbformat": 4,
 "nbformat_minor": 5
}

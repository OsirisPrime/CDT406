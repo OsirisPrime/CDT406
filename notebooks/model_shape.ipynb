{
 "cells": [
  {
   "cell_type": "code",
   "id": "initial_id",
   "metadata": {
    "collapsed": true,
    "ExecuteTime": {
     "end_time": "2025-05-26T13:02:31.348431Z",
     "start_time": "2025-05-26T13:02:31.328021Z"
    }
   },
   "source": [
    "from tensorflow.keras import layers, models\n",
    "import tensorflow as tf\n",
    "\n",
    "class LSTM:\n",
    "    \"\"\"\n",
    "    LSTM is a recurrent neural network model for classification.\n",
    "\n",
    "    The model expects to receive a raw window of data. Before feeding the window into\n",
    "    the LSTM layer, the data is processed by applying a bandpass filter and normalization.\n",
    "\n",
    "    Usage:\n",
    "        1. Instantiate with the window input shape and number of classes:\n",
    "           model = LSTM(input_shape=<window_length, features>, num_classes=<number_of_classes>)\n",
    "\n",
    "        2. Train the model using:\n",
    "           model.train(X_train, y_train, X_val, y_val, epochs=10, batch_size=32)\n",
    "\n",
    "        3. Evaluate the model on test data:\n",
    "           loss, accuracy = model.evaluate(X_test, y_test)\n",
    "    \"\"\"\n",
    "    model_name = \"LSTM\"\n",
    "\n",
    "    def __init__(self,\n",
    "                 input_shape,\n",
    "                 num_classes,\n",
    "                 learning_rate=1e-3,\n",
    "                 optimizer='adam',\n",
    "                 normalization='none',\n",
    "                 dropout=0.0,\n",
    "                 recurrent_dropout=0.0,\n",
    "                 act_dense='tanh',\n",
    "                 act_lstm='tanh',\n",
    "                 units_dense1=32,\n",
    "                 units_lstm=16,\n",
    "                 units_dense2=32):\n",
    "\n",
    "        \"\"\"\n",
    "        Parameters\n",
    "        ----------\n",
    "        input_shape        : int      – time steps per example\n",
    "        num_classes        : int      – #classes\n",
    "        learning_rate      : float\n",
    "        optimizer          : {'adam','rmsprop','nadam'}\n",
    "        normalization      : {'none','batch','layer'}\n",
    "        dropout            : float    – 0 … 0.5; used 1) in Dropout layers, 2) in LSTM(dropout=…)\n",
    "        recurrent_dropout  : float    – 0 … 0.5; fed to LSTM(recurrent_dropout=…)\n",
    "        act_dense          : {'relu','tanh'}\n",
    "        act_lstm           : {'relu','tanh'}\n",
    "        \"\"\"\n",
    "\n",
    "        # Build the network\n",
    "        net = []\n",
    "        net.append(layers.Input(shape=(input_shape,1)))\n",
    "\n",
    "        net.append(layers.Dense(units_dense1, activation=act_dense))\n",
    "        # net.append(layers.Conv1D(units_dense1, kernel_size=25, strides=25, activation='relu'))\n",
    "\n",
    "        # net.append(layers.Reshape((-1, 1)))\n",
    "\n",
    "        if dropout > 0:\n",
    "            net.append(layers.Dropout(dropout))\n",
    "\n",
    "        # optional normalisation\n",
    "        if normalization == 'batch':\n",
    "            net.append(layers.BatchNormalization())\n",
    "        elif normalization == 'layer':\n",
    "            net.append(layers.LayerNormalization())\n",
    "\n",
    "        net.append(layers.LSTM(units_lstm,\n",
    "                               activation=act_lstm,\n",
    "                               unroll=True,\n",
    "                               recurrent_dropout=recurrent_dropout))\n",
    "\n",
    "        net.append(layers.Dense(units_dense2, activation=act_dense))\n",
    "\n",
    "        if dropout > 0:\n",
    "            net.append(layers.Dropout(dropout))\n",
    "\n",
    "        net.append(layers.Dense(num_classes, activation='softmax'))\n",
    "\n",
    "        self.model = models.Sequential(net)\n",
    "\n",
    "        # pick optimiser\n",
    "        opt = self._get_optimizer(optimizer, learning_rate)\n",
    "\n",
    "        self.model.compile(\n",
    "            optimizer=opt,\n",
    "            loss='categorical_crossentropy',\n",
    "            metrics=[tf.keras.metrics.F1Score(average='macro')]\n",
    "        )\n",
    "\n",
    "    @staticmethod\n",
    "    def _get_optimizer(name, lr):\n",
    "        \"\"\"Return an optimiser instance given name & learning-rate.\"\"\"\n",
    "        name = name.lower()\n",
    "        if name == 'adam':\n",
    "            return tf.keras.optimizers.Adam(learning_rate=lr)\n",
    "        if name == 'rmsprop':\n",
    "            return tf.keras.optimizers.RMSprop(learning_rate=lr)\n",
    "        if name == 'nadam':\n",
    "            return tf.keras.optimizers.Nadam(learning_rate=lr)\n",
    "        raise ValueError(f\"Unknown optimiser: {name}\")\n",
    "\n",
    "    def train(self, X_train, y_train, X_val, y_val, epochs=10, batch_size=32, verbose=2):\n",
    "        \"\"\"\n",
    "        Train the LSTM model.\n",
    "\n",
    "        Parameters:\n",
    "            X_train (array-like): Raw training windows.\n",
    "            y_train (array-like): Training labels.\n",
    "            X_val (array-like): Raw validation windows.\n",
    "            y_val (array-like): Validation labels.\n",
    "            epochs (int, optional): Number of epochs. Default is 10.\n",
    "            batch_size (int, optional): Batch size for training. Default is 32.\n",
    "            verbose (int, optional): Verbosity mode. Default is 2.\n",
    "        \"\"\"\n",
    "        self.model.fit(X_train, y_train,\n",
    "                       validation_data=(X_val, y_val),\n",
    "                       epochs=epochs,\n",
    "                       batch_size=batch_size,\n",
    "                       verbose=verbose)\n",
    "\n",
    "    def evaluate(self, X_test, y_test):\n",
    "        \"\"\"\n",
    "        Evaluate the model on test data.\n",
    "\n",
    "        Parameters:\n",
    "            X_test (array-like): Raw test windows.\n",
    "            y_test (array-like): Test labels.\n",
    "\n",
    "        Returns:\n",
    "            Tuple containing loss and accuracy.\n",
    "        \"\"\"\n",
    "        return self.model.evaluate(X_test, y_test, verbose=2)\n",
    "\n",
    "    def save(self, filepath, *args, **kwargs):\n",
    "        \"\"\"\n",
    "        Save the model to the specified filepath.\n",
    "\n",
    "        Parameters:\n",
    "            filepath (str): File path where the model will be saved.\n",
    "        \"\"\"\n",
    "        return self.model.save(filepath, *args, **kwargs)\n",
    "\n",
    "    def load_weights(self, filepath, *args, **kwargs):\n",
    "        \"\"\"\n",
    "        Load model weights from the specified filepath.\n",
    "\n",
    "        Parameters:\n",
    "            filepath (str): File path from which to load model weights.\n",
    "        \"\"\"\n",
    "        return self.model.load_weights(filepath, *args, **kwargs)\n",
    "\n",
    "    def get_model(self):\n",
    "        \"\"\"\n",
    "        Get the underlying Keras model.\n",
    "\n",
    "        Returns:\n",
    "            The Keras model.\n",
    "        \"\"\"\n",
    "        return self.model\n",
    "\n",
    "    def get_model_name(self):\n",
    "        \"\"\"\n",
    "        Get the name of the model.\n",
    "\n",
    "        Returns:\n",
    "            str: The name of the model.\n",
    "        \"\"\"\n",
    "        return self.model_name"
   ],
   "outputs": [],
   "execution_count": 9
  },
  {
   "metadata": {
    "ExecuteTime": {
     "end_time": "2025-05-26T13:02:31.768267Z",
     "start_time": "2025-05-26T13:02:31.697884Z"
    }
   },
   "cell_type": "code",
   "source": "lstm = LSTM(200, 4)",
   "id": "d28def9b34c050fc",
   "outputs": [],
   "execution_count": 10
  },
  {
   "metadata": {
    "ExecuteTime": {
     "end_time": "2025-05-26T13:02:32.045584Z",
     "start_time": "2025-05-26T13:02:32.041197Z"
    }
   },
   "cell_type": "code",
   "source": "model = lstm.get_model()",
   "id": "5d04465fd870197a",
   "outputs": [],
   "execution_count": 11
  },
  {
   "metadata": {
    "ExecuteTime": {
     "end_time": "2025-05-26T13:02:32.826700Z",
     "start_time": "2025-05-26T13:02:32.802224Z"
    }
   },
   "cell_type": "code",
   "source": "print(model.summary())",
   "id": "e165029056b94f0b",
   "outputs": [
    {
     "data": {
      "text/plain": [
       "\u001B[1mModel: \"sequential_2\"\u001B[0m\n"
      ],
      "text/html": [
       "<pre style=\"white-space:pre;overflow-x:auto;line-height:normal;font-family:Menlo,'DejaVu Sans Mono',consolas,'Courier New',monospace\"><span style=\"font-weight: bold\">Model: \"sequential_2\"</span>\n",
       "</pre>\n"
      ]
     },
     "metadata": {},
     "output_type": "display_data"
    },
    {
     "data": {
      "text/plain": [
       "┏━━━━━━━━━━━━━━━━━━━━━━━━━━━━━━━━━┳━━━━━━━━━━━━━━━━━━━━━━━━┳━━━━━━━━━━━━━━━┓\n",
       "┃\u001B[1m \u001B[0m\u001B[1mLayer (type)                   \u001B[0m\u001B[1m \u001B[0m┃\u001B[1m \u001B[0m\u001B[1mOutput Shape          \u001B[0m\u001B[1m \u001B[0m┃\u001B[1m \u001B[0m\u001B[1m      Param #\u001B[0m\u001B[1m \u001B[0m┃\n",
       "┡━━━━━━━━━━━━━━━━━━━━━━━━━━━━━━━━━╇━━━━━━━━━━━━━━━━━━━━━━━━╇━━━━━━━━━━━━━━━┩\n",
       "│ dense_4 (\u001B[38;5;33mDense\u001B[0m)                 │ (\u001B[38;5;45mNone\u001B[0m, \u001B[38;5;34m200\u001B[0m, \u001B[38;5;34m32\u001B[0m)        │            \u001B[38;5;34m64\u001B[0m │\n",
       "├─────────────────────────────────┼────────────────────────┼───────────────┤\n",
       "│ lstm_2 (\u001B[38;5;33mLSTM\u001B[0m)                   │ (\u001B[38;5;45mNone\u001B[0m, \u001B[38;5;34m16\u001B[0m)             │         \u001B[38;5;34m3,136\u001B[0m │\n",
       "├─────────────────────────────────┼────────────────────────┼───────────────┤\n",
       "│ dense_5 (\u001B[38;5;33mDense\u001B[0m)                 │ (\u001B[38;5;45mNone\u001B[0m, \u001B[38;5;34m32\u001B[0m)             │           \u001B[38;5;34m544\u001B[0m │\n",
       "├─────────────────────────────────┼────────────────────────┼───────────────┤\n",
       "│ dense_6 (\u001B[38;5;33mDense\u001B[0m)                 │ (\u001B[38;5;45mNone\u001B[0m, \u001B[38;5;34m4\u001B[0m)              │           \u001B[38;5;34m132\u001B[0m │\n",
       "└─────────────────────────────────┴────────────────────────┴───────────────┘\n"
      ],
      "text/html": [
       "<pre style=\"white-space:pre;overflow-x:auto;line-height:normal;font-family:Menlo,'DejaVu Sans Mono',consolas,'Courier New',monospace\">┏━━━━━━━━━━━━━━━━━━━━━━━━━━━━━━━━━┳━━━━━━━━━━━━━━━━━━━━━━━━┳━━━━━━━━━━━━━━━┓\n",
       "┃<span style=\"font-weight: bold\"> Layer (type)                    </span>┃<span style=\"font-weight: bold\"> Output Shape           </span>┃<span style=\"font-weight: bold\">       Param # </span>┃\n",
       "┡━━━━━━━━━━━━━━━━━━━━━━━━━━━━━━━━━╇━━━━━━━━━━━━━━━━━━━━━━━━╇━━━━━━━━━━━━━━━┩\n",
       "│ dense_4 (<span style=\"color: #0087ff; text-decoration-color: #0087ff\">Dense</span>)                 │ (<span style=\"color: #00d7ff; text-decoration-color: #00d7ff\">None</span>, <span style=\"color: #00af00; text-decoration-color: #00af00\">200</span>, <span style=\"color: #00af00; text-decoration-color: #00af00\">32</span>)        │            <span style=\"color: #00af00; text-decoration-color: #00af00\">64</span> │\n",
       "├─────────────────────────────────┼────────────────────────┼───────────────┤\n",
       "│ lstm_2 (<span style=\"color: #0087ff; text-decoration-color: #0087ff\">LSTM</span>)                   │ (<span style=\"color: #00d7ff; text-decoration-color: #00d7ff\">None</span>, <span style=\"color: #00af00; text-decoration-color: #00af00\">16</span>)             │         <span style=\"color: #00af00; text-decoration-color: #00af00\">3,136</span> │\n",
       "├─────────────────────────────────┼────────────────────────┼───────────────┤\n",
       "│ dense_5 (<span style=\"color: #0087ff; text-decoration-color: #0087ff\">Dense</span>)                 │ (<span style=\"color: #00d7ff; text-decoration-color: #00d7ff\">None</span>, <span style=\"color: #00af00; text-decoration-color: #00af00\">32</span>)             │           <span style=\"color: #00af00; text-decoration-color: #00af00\">544</span> │\n",
       "├─────────────────────────────────┼────────────────────────┼───────────────┤\n",
       "│ dense_6 (<span style=\"color: #0087ff; text-decoration-color: #0087ff\">Dense</span>)                 │ (<span style=\"color: #00d7ff; text-decoration-color: #00d7ff\">None</span>, <span style=\"color: #00af00; text-decoration-color: #00af00\">4</span>)              │           <span style=\"color: #00af00; text-decoration-color: #00af00\">132</span> │\n",
       "└─────────────────────────────────┴────────────────────────┴───────────────┘\n",
       "</pre>\n"
      ]
     },
     "metadata": {},
     "output_type": "display_data"
    },
    {
     "data": {
      "text/plain": [
       "\u001B[1m Total params: \u001B[0m\u001B[38;5;34m3,876\u001B[0m (15.14 KB)\n"
      ],
      "text/html": [
       "<pre style=\"white-space:pre;overflow-x:auto;line-height:normal;font-family:Menlo,'DejaVu Sans Mono',consolas,'Courier New',monospace\"><span style=\"font-weight: bold\"> Total params: </span><span style=\"color: #00af00; text-decoration-color: #00af00\">3,876</span> (15.14 KB)\n",
       "</pre>\n"
      ]
     },
     "metadata": {},
     "output_type": "display_data"
    },
    {
     "data": {
      "text/plain": [
       "\u001B[1m Trainable params: \u001B[0m\u001B[38;5;34m3,876\u001B[0m (15.14 KB)\n"
      ],
      "text/html": [
       "<pre style=\"white-space:pre;overflow-x:auto;line-height:normal;font-family:Menlo,'DejaVu Sans Mono',consolas,'Courier New',monospace\"><span style=\"font-weight: bold\"> Trainable params: </span><span style=\"color: #00af00; text-decoration-color: #00af00\">3,876</span> (15.14 KB)\n",
       "</pre>\n"
      ]
     },
     "metadata": {},
     "output_type": "display_data"
    },
    {
     "data": {
      "text/plain": [
       "\u001B[1m Non-trainable params: \u001B[0m\u001B[38;5;34m0\u001B[0m (0.00 B)\n"
      ],
      "text/html": [
       "<pre style=\"white-space:pre;overflow-x:auto;line-height:normal;font-family:Menlo,'DejaVu Sans Mono',consolas,'Courier New',monospace\"><span style=\"font-weight: bold\"> Non-trainable params: </span><span style=\"color: #00af00; text-decoration-color: #00af00\">0</span> (0.00 B)\n",
       "</pre>\n"
      ]
     },
     "metadata": {},
     "output_type": "display_data"
    },
    {
     "name": "stdout",
     "output_type": "stream",
     "text": [
      "None\n"
     ]
    }
   ],
   "execution_count": 12
  },
  {
   "metadata": {
    "ExecuteTime": {
     "end_time": "2025-05-21T09:17:46.155169Z",
     "start_time": "2025-05-21T09:17:46.144171Z"
    }
   },
   "cell_type": "code",
   "source": [
    "num = int(1000 * 1000 / 5000)\n",
    "num"
   ],
   "id": "d476bf07fb0c9a5",
   "outputs": [
    {
     "data": {
      "text/plain": [
       "200"
      ]
     },
     "execution_count": 17,
     "metadata": {},
     "output_type": "execute_result"
    }
   ],
   "execution_count": 17
  },
  {
   "metadata": {
    "ExecuteTime": {
     "end_time": "2025-05-21T09:17:46.224793Z",
     "start_time": "2025-05-21T09:17:46.220559Z"
    }
   },
   "cell_type": "code",
   "source": "",
   "id": "6f4d353aefbad95",
   "outputs": [],
   "execution_count": null
  }
 ],
 "metadata": {
  "kernelspec": {
   "display_name": "Python 3",
   "language": "python",
   "name": "python3"
  },
  "language_info": {
   "codemirror_mode": {
    "name": "ipython",
    "version": 2
   },
   "file_extension": ".py",
   "mimetype": "text/x-python",
   "name": "python",
   "nbconvert_exporter": "python",
   "pygments_lexer": "ipython2",
   "version": "2.7.6"
  }
 },
 "nbformat": 4,
 "nbformat_minor": 5
}

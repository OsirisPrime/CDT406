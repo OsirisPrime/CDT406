{
 "cells": [
  {
   "cell_type": "code",
   "id": "initial_id",
   "metadata": {
    "collapsed": true,
    "ExecuteTime": {
     "end_time": "2025-05-21T11:36:58.629321Z",
     "start_time": "2025-05-21T11:36:58.594795Z"
    }
   },
   "source": [
    "from tensorflow.keras import layers, models\n",
    "import tensorflow as tf\n",
    "\n",
    "from src.models.model_components.stft_layer import STFTLayer\n",
    "\n",
    "class ANN_STFT:\n",
    "    \"\"\"\n",
    "    ANN is a feed-forward neural network model for classification.\n",
    "\n",
    "    The model consists of 3 dense layers with customizable sizes (default 32-16-32).\n",
    "\n",
    "    Usage:\n",
    "        1. Instantiate with the input shape and number of classes:\n",
    "           model = ANN(input_shape=<features>, num_classes=<number_of_classes>)\n",
    "\n",
    "        2. Train the model using:\n",
    "           model.train(X_train, y_train, X_val, y_val, epochs=10, batch_size=32)\n",
    "\n",
    "        3. Evaluate the model on test data:\n",
    "           loss, accuracy = model.evaluate(X_test, y_test)\n",
    "    \"\"\"\n",
    "    model_name = \"ANN\"\n",
    "\n",
    "    def __init__(self,\n",
    "                 input_shape,\n",
    "                 num_classes,\n",
    "                 learning_rate=1e-3,\n",
    "                 optimizer='adam',\n",
    "                 normalization='none',\n",
    "                 dropout=0.0,\n",
    "                 activation='tanh',\n",
    "                 units_dense1=32,\n",
    "                 units_dense2=16,\n",
    "                 units_dense3=32,\n",
    "                 stft_frame_length=64,\n",
    "                 stft_frame_step=32):\n",
    "\n",
    "        \"\"\"\n",
    "        Parameters\n",
    "        ----------\n",
    "        input_shape        : int      – number of features per example\n",
    "        num_classes        : int      – #classes\n",
    "        learning_rate      : float\n",
    "        optimizer          : {'adam','rmsprop','nadam'}\n",
    "        normalization      : {'none','batch','layer'}\n",
    "        dropout            : float    – 0 … 0.5; used in Dropout layers\n",
    "        activation         : {'relu','tanh','sigmoid'}\n",
    "        units_dense1       : int      – units in first dense layer\n",
    "        units_dense2       : int      – units in second dense layer\n",
    "        units_dense3       : int      – units in third dense layer\n",
    "        \"\"\"\n",
    "\n",
    "        # Build the network\n",
    "        net = []\n",
    "        net.append(layers.Input(shape=(input_shape,)))\n",
    "\n",
    "        net.append(STFTLayer(\n",
    "            frame_length=stft_frame_length,\n",
    "            frame_step=stft_frame_step,\n",
    "            name='stft'\n",
    "        ))\n",
    "\n",
    "        net.append(layers.Flatten())\n",
    "\n",
    "        # First dense layer\n",
    "        net.append(layers.Dense(units_dense1, activation=activation))\n",
    "\n",
    "        if dropout > 0:\n",
    "            net.append(layers.Dropout(dropout))\n",
    "\n",
    "        # Optional normalization after first layer\n",
    "        if normalization == 'batch':\n",
    "            net.append(layers.BatchNormalization())\n",
    "        elif normalization == 'layer':\n",
    "            net.append(layers.LayerNormalization())\n",
    "\n",
    "        # Second dense layer\n",
    "        net.append(layers.Dense(units_dense2, activation=activation))\n",
    "\n",
    "        if dropout > 0:\n",
    "            net.append(layers.Dropout(dropout))\n",
    "\n",
    "        # Optional normalization after second layer\n",
    "        if normalization == 'batch':\n",
    "            net.append(layers.BatchNormalization())\n",
    "        elif normalization == 'layer':\n",
    "            net.append(layers.LayerNormalization())\n",
    "\n",
    "        # Third dense layer\n",
    "        net.append(layers.Dense(units_dense3, activation=activation))\n",
    "\n",
    "        if dropout > 0:\n",
    "            net.append(layers.Dropout(dropout))\n",
    "\n",
    "        # Output layer\n",
    "        net.append(layers.Dense(num_classes, activation='softmax'))\n",
    "\n",
    "        self.model = models.Sequential(net)\n",
    "\n",
    "        # Pick optimizer\n",
    "        opt = self._get_optimizer(optimizer, learning_rate)\n",
    "\n",
    "        self.model.compile(\n",
    "            optimizer=opt,\n",
    "            loss='categorical_crossentropy',\n",
    "            metrics=[tf.keras.metrics.F1Score(average='macro')]\n",
    "        )\n",
    "\n",
    "    @staticmethod\n",
    "    def _get_optimizer(name, lr):\n",
    "        \"\"\"Return an optimizer instance given name & learning-rate.\"\"\"\n",
    "        name = name.lower()\n",
    "        if name == 'adam':\n",
    "            return tf.keras.optimizers.Adam(learning_rate=lr)\n",
    "        if name == 'rmsprop':\n",
    "            return tf.keras.optimizers.RMSprop(learning_rate=lr)\n",
    "        if name == 'nadam':\n",
    "            return tf.keras.optimizers.Nadam(learning_rate=lr)\n",
    "        raise ValueError(f\"Unknown optimizer: {name}\")\n",
    "\n",
    "    def train(self, X_train, y_train, X_val, y_val, epochs=10, batch_size=32, verbose=2):\n",
    "        \"\"\"\n",
    "        Train the ANN model.\n",
    "\n",
    "        Parameters:\n",
    "            X_train (array-like): Training feature vectors.\n",
    "            y_train (array-like): Training labels.\n",
    "            X_val (array-like): Validation feature vectors.\n",
    "            y_val (array-like): Validation labels.\n",
    "            epochs (int, optional): Number of epochs. Default is 10.\n",
    "            batch_size (int, optional): Batch size for training. Default is 32.\n",
    "            verbose (int, optional): Verbosity mode. Default is 2.\n",
    "        \"\"\"\n",
    "        self.model.fit(X_train, y_train,\n",
    "                       validation_data=(X_val, y_val),\n",
    "                       epochs=epochs,\n",
    "                       batch_size=batch_size,\n",
    "                       verbose=verbose)\n",
    "\n",
    "    def evaluate(self, X_test, y_test):\n",
    "        \"\"\"\n",
    "        Evaluate the model on test data.\n",
    "\n",
    "        Parameters:\n",
    "            X_test (array-like): Test feature vectors.\n",
    "            y_test (array-like): Test labels.\n",
    "\n",
    "        Returns:\n",
    "            Tuple containing loss and F1 score.\n",
    "        \"\"\"\n",
    "        return self.model.evaluate(X_test, y_test, verbose=2)\n",
    "\n",
    "    def save(self, filepath, *args, **kwargs):\n",
    "        \"\"\"\n",
    "        Save the model to the specified filepath.\n",
    "\n",
    "        Parameters:\n",
    "            filepath (str): File path where the model will be saved.\n",
    "        \"\"\"\n",
    "        return self.model.save(filepath, *args, **kwargs)\n",
    "\n",
    "    def load_weights(self, filepath, *args, **kwargs):\n",
    "        \"\"\"\n",
    "        Load model weights from the specified filepath.\n",
    "\n",
    "        Parameters:\n",
    "            filepath (str): File path from which to load model weights.\n",
    "        \"\"\"\n",
    "        return self.model.load_weights(filepath, *args, **kwargs)\n",
    "\n",
    "    def get_model(self):\n",
    "        \"\"\"\n",
    "        Get the underlying Keras model.\n",
    "\n",
    "        Returns:\n",
    "            The Keras model.\n",
    "        \"\"\"\n",
    "        return self.model\n",
    "\n",
    "    def get_model_name(self):\n",
    "        \"\"\"\n",
    "        Get the name of the model.\n",
    "\n",
    "        Returns:\n",
    "            str: The name of the model.\n",
    "        \"\"\"\n",
    "        return self.model_name"
   ],
   "outputs": [],
   "execution_count": 35
  },
  {
   "metadata": {
    "ExecuteTime": {
     "end_time": "2025-05-21T11:36:59.849916Z",
     "start_time": "2025-05-21T11:36:58.824914Z"
    }
   },
   "cell_type": "code",
   "source": "lstm = ANN_STFT(200, 4)",
   "id": "d28def9b34c050fc",
   "outputs": [],
   "execution_count": 36
  },
  {
   "metadata": {
    "ExecuteTime": {
     "end_time": "2025-05-21T11:36:59.954469Z",
     "start_time": "2025-05-21T11:36:59.948491Z"
    }
   },
   "cell_type": "code",
   "source": "model = lstm.get_model()",
   "id": "5d04465fd870197a",
   "outputs": [],
   "execution_count": 37
  },
  {
   "metadata": {
    "ExecuteTime": {
     "end_time": "2025-05-21T11:37:00.194380Z",
     "start_time": "2025-05-21T11:37:00.143854Z"
    }
   },
   "cell_type": "code",
   "source": "print(model.summary())",
   "id": "e165029056b94f0b",
   "outputs": [
    {
     "data": {
      "text/plain": [
       "\u001B[1mModel: \"sequential_8\"\u001B[0m\n"
      ],
      "text/html": [
       "<pre style=\"white-space:pre;overflow-x:auto;line-height:normal;font-family:Menlo,'DejaVu Sans Mono',consolas,'Courier New',monospace\"><span style=\"font-weight: bold\">Model: \"sequential_8\"</span>\n",
       "</pre>\n"
      ]
     },
     "metadata": {},
     "output_type": "display_data"
    },
    {
     "data": {
      "text/plain": [
       "┏━━━━━━━━━━━━━━━━━━━━━━━━━━━━━━━━━┳━━━━━━━━━━━━━━━━━━━━━━━━┳━━━━━━━━━━━━━━━┓\n",
       "┃\u001B[1m \u001B[0m\u001B[1mLayer (type)                   \u001B[0m\u001B[1m \u001B[0m┃\u001B[1m \u001B[0m\u001B[1mOutput Shape          \u001B[0m\u001B[1m \u001B[0m┃\u001B[1m \u001B[0m\u001B[1m      Param #\u001B[0m\u001B[1m \u001B[0m┃\n",
       "┡━━━━━━━━━━━━━━━━━━━━━━━━━━━━━━━━━╇━━━━━━━━━━━━━━━━━━━━━━━━╇━━━━━━━━━━━━━━━┩\n",
       "│ stft (\u001B[38;5;33mSTFTLayer\u001B[0m)                │ (\u001B[38;5;45mNone\u001B[0m, \u001B[38;5;34m5\u001B[0m, \u001B[38;5;34m33\u001B[0m)          │             \u001B[38;5;34m0\u001B[0m │\n",
       "├─────────────────────────────────┼────────────────────────┼───────────────┤\n",
       "│ flatten (\u001B[38;5;33mFlatten\u001B[0m)               │ (\u001B[38;5;45mNone\u001B[0m, \u001B[38;5;34m165\u001B[0m)            │             \u001B[38;5;34m0\u001B[0m │\n",
       "├─────────────────────────────────┼────────────────────────┼───────────────┤\n",
       "│ dense_21 (\u001B[38;5;33mDense\u001B[0m)                │ (\u001B[38;5;45mNone\u001B[0m, \u001B[38;5;34m32\u001B[0m)             │         \u001B[38;5;34m5,312\u001B[0m │\n",
       "├─────────────────────────────────┼────────────────────────┼───────────────┤\n",
       "│ dense_22 (\u001B[38;5;33mDense\u001B[0m)                │ (\u001B[38;5;45mNone\u001B[0m, \u001B[38;5;34m16\u001B[0m)             │           \u001B[38;5;34m528\u001B[0m │\n",
       "├─────────────────────────────────┼────────────────────────┼───────────────┤\n",
       "│ dense_23 (\u001B[38;5;33mDense\u001B[0m)                │ (\u001B[38;5;45mNone\u001B[0m, \u001B[38;5;34m32\u001B[0m)             │           \u001B[38;5;34m544\u001B[0m │\n",
       "├─────────────────────────────────┼────────────────────────┼───────────────┤\n",
       "│ dense_24 (\u001B[38;5;33mDense\u001B[0m)                │ (\u001B[38;5;45mNone\u001B[0m, \u001B[38;5;34m4\u001B[0m)              │           \u001B[38;5;34m132\u001B[0m │\n",
       "└─────────────────────────────────┴────────────────────────┴───────────────┘\n"
      ],
      "text/html": [
       "<pre style=\"white-space:pre;overflow-x:auto;line-height:normal;font-family:Menlo,'DejaVu Sans Mono',consolas,'Courier New',monospace\">┏━━━━━━━━━━━━━━━━━━━━━━━━━━━━━━━━━┳━━━━━━━━━━━━━━━━━━━━━━━━┳━━━━━━━━━━━━━━━┓\n",
       "┃<span style=\"font-weight: bold\"> Layer (type)                    </span>┃<span style=\"font-weight: bold\"> Output Shape           </span>┃<span style=\"font-weight: bold\">       Param # </span>┃\n",
       "┡━━━━━━━━━━━━━━━━━━━━━━━━━━━━━━━━━╇━━━━━━━━━━━━━━━━━━━━━━━━╇━━━━━━━━━━━━━━━┩\n",
       "│ stft (<span style=\"color: #0087ff; text-decoration-color: #0087ff\">STFTLayer</span>)                │ (<span style=\"color: #00d7ff; text-decoration-color: #00d7ff\">None</span>, <span style=\"color: #00af00; text-decoration-color: #00af00\">5</span>, <span style=\"color: #00af00; text-decoration-color: #00af00\">33</span>)          │             <span style=\"color: #00af00; text-decoration-color: #00af00\">0</span> │\n",
       "├─────────────────────────────────┼────────────────────────┼───────────────┤\n",
       "│ flatten (<span style=\"color: #0087ff; text-decoration-color: #0087ff\">Flatten</span>)               │ (<span style=\"color: #00d7ff; text-decoration-color: #00d7ff\">None</span>, <span style=\"color: #00af00; text-decoration-color: #00af00\">165</span>)            │             <span style=\"color: #00af00; text-decoration-color: #00af00\">0</span> │\n",
       "├─────────────────────────────────┼────────────────────────┼───────────────┤\n",
       "│ dense_21 (<span style=\"color: #0087ff; text-decoration-color: #0087ff\">Dense</span>)                │ (<span style=\"color: #00d7ff; text-decoration-color: #00d7ff\">None</span>, <span style=\"color: #00af00; text-decoration-color: #00af00\">32</span>)             │         <span style=\"color: #00af00; text-decoration-color: #00af00\">5,312</span> │\n",
       "├─────────────────────────────────┼────────────────────────┼───────────────┤\n",
       "│ dense_22 (<span style=\"color: #0087ff; text-decoration-color: #0087ff\">Dense</span>)                │ (<span style=\"color: #00d7ff; text-decoration-color: #00d7ff\">None</span>, <span style=\"color: #00af00; text-decoration-color: #00af00\">16</span>)             │           <span style=\"color: #00af00; text-decoration-color: #00af00\">528</span> │\n",
       "├─────────────────────────────────┼────────────────────────┼───────────────┤\n",
       "│ dense_23 (<span style=\"color: #0087ff; text-decoration-color: #0087ff\">Dense</span>)                │ (<span style=\"color: #00d7ff; text-decoration-color: #00d7ff\">None</span>, <span style=\"color: #00af00; text-decoration-color: #00af00\">32</span>)             │           <span style=\"color: #00af00; text-decoration-color: #00af00\">544</span> │\n",
       "├─────────────────────────────────┼────────────────────────┼───────────────┤\n",
       "│ dense_24 (<span style=\"color: #0087ff; text-decoration-color: #0087ff\">Dense</span>)                │ (<span style=\"color: #00d7ff; text-decoration-color: #00d7ff\">None</span>, <span style=\"color: #00af00; text-decoration-color: #00af00\">4</span>)              │           <span style=\"color: #00af00; text-decoration-color: #00af00\">132</span> │\n",
       "└─────────────────────────────────┴────────────────────────┴───────────────┘\n",
       "</pre>\n"
      ]
     },
     "metadata": {},
     "output_type": "display_data"
    },
    {
     "data": {
      "text/plain": [
       "\u001B[1m Total params: \u001B[0m\u001B[38;5;34m6,516\u001B[0m (25.45 KB)\n"
      ],
      "text/html": [
       "<pre style=\"white-space:pre;overflow-x:auto;line-height:normal;font-family:Menlo,'DejaVu Sans Mono',consolas,'Courier New',monospace\"><span style=\"font-weight: bold\"> Total params: </span><span style=\"color: #00af00; text-decoration-color: #00af00\">6,516</span> (25.45 KB)\n",
       "</pre>\n"
      ]
     },
     "metadata": {},
     "output_type": "display_data"
    },
    {
     "data": {
      "text/plain": [
       "\u001B[1m Trainable params: \u001B[0m\u001B[38;5;34m6,516\u001B[0m (25.45 KB)\n"
      ],
      "text/html": [
       "<pre style=\"white-space:pre;overflow-x:auto;line-height:normal;font-family:Menlo,'DejaVu Sans Mono',consolas,'Courier New',monospace\"><span style=\"font-weight: bold\"> Trainable params: </span><span style=\"color: #00af00; text-decoration-color: #00af00\">6,516</span> (25.45 KB)\n",
       "</pre>\n"
      ]
     },
     "metadata": {},
     "output_type": "display_data"
    },
    {
     "data": {
      "text/plain": [
       "\u001B[1m Non-trainable params: \u001B[0m\u001B[38;5;34m0\u001B[0m (0.00 B)\n"
      ],
      "text/html": [
       "<pre style=\"white-space:pre;overflow-x:auto;line-height:normal;font-family:Menlo,'DejaVu Sans Mono',consolas,'Courier New',monospace\"><span style=\"font-weight: bold\"> Non-trainable params: </span><span style=\"color: #00af00; text-decoration-color: #00af00\">0</span> (0.00 B)\n",
       "</pre>\n"
      ]
     },
     "metadata": {},
     "output_type": "display_data"
    },
    {
     "name": "stdout",
     "output_type": "stream",
     "text": [
      "None\n"
     ]
    }
   ],
   "execution_count": 38
  },
  {
   "metadata": {
    "ExecuteTime": {
     "end_time": "2025-05-21T09:17:46.155169Z",
     "start_time": "2025-05-21T09:17:46.144171Z"
    }
   },
   "cell_type": "code",
   "source": [
    "num = int(1000 * 1000 / 5000)\n",
    "num"
   ],
   "id": "d476bf07fb0c9a5",
   "outputs": [
    {
     "data": {
      "text/plain": [
       "200"
      ]
     },
     "execution_count": 17,
     "metadata": {},
     "output_type": "execute_result"
    }
   ],
   "execution_count": 17
  },
  {
   "metadata": {
    "ExecuteTime": {
     "end_time": "2025-05-21T09:17:46.224793Z",
     "start_time": "2025-05-21T09:17:46.220559Z"
    }
   },
   "cell_type": "code",
   "source": "",
   "id": "6f4d353aefbad95",
   "outputs": [],
   "execution_count": null
  }
 ],
 "metadata": {
  "kernelspec": {
   "display_name": "Python 3",
   "language": "python",
   "name": "python3"
  },
  "language_info": {
   "codemirror_mode": {
    "name": "ipython",
    "version": 2
   },
   "file_extension": ".py",
   "mimetype": "text/x-python",
   "name": "python",
   "nbconvert_exporter": "python",
   "pygments_lexer": "ipython2",
   "version": "2.7.6"
  }
 },
 "nbformat": 4,
 "nbformat_minor": 5
}

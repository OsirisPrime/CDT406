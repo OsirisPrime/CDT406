{
 "cells": [
  {
   "metadata": {},
   "cell_type": "code",
   "outputs": [],
   "execution_count": null,
   "source": [
    "import tensorflow as tf\n",
    "from src.data.data_loader import get_raw_data_as_dataframe\n",
    "import numpy as np\n",
    "import matplotlib.pyplot as plt"
   ],
   "id": "e874e3c0ac3db9de"
  },
  {
   "metadata": {},
   "cell_type": "code",
   "outputs": [],
   "execution_count": null,
   "source": "raw_data = get_raw_data_as_dataframe()",
   "id": "755fa823c1b6b71"
  },
  {
   "metadata": {},
   "cell_type": "code",
   "outputs": [],
   "execution_count": null,
   "source": "raw_data.head()",
   "id": "8edf709bd539588"
  },
  {
   "metadata": {},
   "cell_type": "code",
   "outputs": [],
   "execution_count": null,
   "source": [
    "from scipy import signal\n",
    "\n",
    "def pre_processor_layer(x):\n",
    "    b = [0.00419699, 0, -0.01678797, 0, 0.02518196, 0, -0.01678797, 0, 0.00419699]\n",
    "    a = [1,  -6.38164673, 17.89924864,-28.87732286, 29.35610903, -19.27287096, 7.98121461, -1.90559965, 0.20086794]\n",
    "\n",
    "    # Bandpass 20-500 Hz\n",
    "    x = signal.filtfilt(b, a, x)\n",
    "\n",
    "    return x"
   ],
   "id": "3c0d5ed68ff35648"
  },
  {
   "metadata": {},
   "cell_type": "code",
   "outputs": [],
   "execution_count": null,
   "source": [
    "from src.utils.path_utils import get_raw_data_dir\n",
    "import glob\n",
    "\n",
    "# List all csv files\n",
    "csv_files = glob.glob(str(get_raw_data_dir()) + \"/Dataset_O1/**/*.csv\", recursive=True)"
   ],
   "id": "7ac7edef10584257"
  },
  {
   "metadata": {},
   "cell_type": "code",
   "outputs": [],
   "execution_count": null,
   "source": [
    "# Select a sample signal (replace 'column_name' with your actual column)\n",
    "single_file = raw_data[raw_data['source'] == csv_files[30]]\n",
    "sample_signal = single_file['measurement'].values"
   ],
   "id": "711cb9f3698d4b7a"
  },
  {
   "metadata": {},
   "cell_type": "code",
   "outputs": [],
   "execution_count": null,
   "source": "sample_signal.shape",
   "id": "93926f313a63e5e0"
  },
  {
   "metadata": {},
   "cell_type": "code",
   "outputs": [],
   "execution_count": null,
   "source": [
    "# Apply your pre_processor_layer\n",
    "processed_signal = pre_processor_layer(sample_signal)\n",
    "\n",
    "# Plot original vs processed\n",
    "plt.figure(figsize=(12, 4))\n",
    "plt.plot(sample_signal, label='Original')\n",
    "plt.plot(processed_signal, label='Processed')\n",
    "plt.legend()\n",
    "plt.title('Pre-processing Layer Test')\n",
    "plt.show()"
   ],
   "id": "75fc19e4f44244e8"
  },
  {
   "metadata": {},
   "cell_type": "code",
   "outputs": [],
   "execution_count": null,
   "source": "",
   "id": "b448e90f906b142"
  },
  {
   "metadata": {},
   "cell_type": "code",
   "outputs": [],
   "execution_count": null,
   "source": "",
   "id": "1fee60f60d104a30"
  }
 ],
 "metadata": {},
 "nbformat": 4,
 "nbformat_minor": 5
}

{
 "cells": [
  {
   "cell_type": "code",
   "id": "initial_id",
   "metadata": {
    "collapsed": true,
    "ExecuteTime": {
     "end_time": "2025-04-28T13:37:58.456755Z",
     "start_time": "2025-04-28T13:37:58.447043Z"
    }
   },
   "source": [
    "import pandas as pd\n",
    "from src.utils.path_utils import get_processed_data_dir\n",
    "import numpy as np\n",
    "\n",
    "path = str(get_processed_data_dir()) + \"/S3M6F1O1_dataset.csv\""
   ],
   "outputs": [],
   "execution_count": 2
  },
  {
   "metadata": {
    "ExecuteTime": {
     "end_time": "2025-04-28T13:38:05.887604Z",
     "start_time": "2025-04-28T13:38:05.587384Z"
    }
   },
   "cell_type": "code",
   "source": "data = pd.read_csv(path)",
   "id": "888d0b181b754d93",
   "outputs": [],
   "execution_count": 3
  },
  {
   "metadata": {
    "ExecuteTime": {
     "end_time": "2025-04-28T13:38:08.344433Z",
     "start_time": "2025-04-28T13:38:08.308785Z"
    }
   },
   "cell_type": "code",
   "source": "data",
   "id": "3b6e5fa9ee28e10b",
   "outputs": [
    {
     "data": {
      "text/plain": [
       "      sample_0  sample_1  sample_2  sample_3  sample_4  sample_5  sample_6  \\\n",
       "0     1.345788  1.349817  1.353040  1.353846  1.353846  1.356264  1.358681   \n",
       "1     1.364322  1.361099  1.361905  1.357875  1.358681  1.354652  1.356264   \n",
       "2     1.353846  1.356264  1.357875  1.357875  1.357070  1.354652  1.354652   \n",
       "3     1.353846  1.353846  1.353846  1.352234  1.351429  1.349011  1.352234   \n",
       "4     1.353846  1.353846  1.356264  1.356264  1.361099  1.353846  1.353846   \n",
       "...        ...       ...       ...       ...       ...       ...       ...   \n",
       "1087  1.358681  1.377216  1.375604  1.378828  1.367546  1.353846  1.353846   \n",
       "1088  1.352234  1.353040  1.346593  1.366740  1.369158  1.361099  1.354652   \n",
       "1089  1.353040  1.362711  1.353846  1.352234  1.353040  1.353846  1.354652   \n",
       "1090  1.353846  1.362711  1.360293  1.357875  1.351429  1.352234  1.355458   \n",
       "1091  1.353846  1.354652  1.356264  1.359487  1.361099  1.359487  1.353846   \n",
       "\n",
       "      sample_7  sample_8  sample_9  ...  sample_991  sample_992  sample_993  \\\n",
       "0     1.359487  1.360293  1.356264  ...    1.355458    1.353040    1.353846   \n",
       "1     1.353846  1.353846  1.354652  ...    1.353846    1.353040    1.353846   \n",
       "2     1.362711  1.357875  1.356264  ...    1.353040    1.357070    1.357875   \n",
       "3     1.352234  1.355458  1.353846  ...    1.357875    1.353846    1.353846   \n",
       "4     1.353846  1.353846  1.352234  ...    1.361905    1.364322    1.365128   \n",
       "...        ...       ...       ...  ...         ...         ...         ...   \n",
       "1087  1.354652  1.352234  1.346593  ...    1.367546    1.357875    1.345788   \n",
       "1088  1.357875  1.354652  1.355458  ...    1.353846    1.354652    1.358681   \n",
       "1089  1.357875  1.361099  1.353846  ...    1.353040    1.353846    1.354652   \n",
       "1090  1.353846  1.355458  1.353846  ...    1.353846    1.356264    1.358681   \n",
       "1091  1.353846  1.353846  1.353040  ...    1.353040    1.350623    1.353846   \n",
       "\n",
       "      sample_994  sample_995  sample_996  sample_997  sample_998  sample_999  \\\n",
       "0       1.353846    1.353846    1.353846    1.356264    1.354652    1.359487   \n",
       "1       1.353846    1.352234    1.349817    1.352234    1.351429    1.352234   \n",
       "2       1.356264    1.357875    1.355458    1.354652    1.354652    1.352234   \n",
       "3       1.349817    1.352234    1.349817    1.353846    1.351429    1.353040   \n",
       "4       1.358681    1.359487    1.353846    1.356264    1.353846    1.354652   \n",
       "...          ...         ...         ...         ...         ...         ...   \n",
       "1087    1.341758    1.353846    1.353846    1.353846    1.351429    1.349817   \n",
       "1088    1.365128    1.353846    1.351429    1.349011    1.347399    1.353846   \n",
       "1089    1.353846    1.353846    1.355458    1.353846    1.361099    1.354652   \n",
       "1090    1.358681    1.356264    1.353846    1.352234    1.353846    1.353846   \n",
       "1091    1.353846    1.353040    1.353846    1.353846    1.361099    1.356264   \n",
       "\n",
       "      label  \n",
       "0       0.0  \n",
       "1       0.0  \n",
       "2       0.0  \n",
       "3       0.0  \n",
       "4       0.0  \n",
       "...     ...  \n",
       "1087    1.0  \n",
       "1088    1.0  \n",
       "1089    1.0  \n",
       "1090    2.0  \n",
       "1091    2.0  \n",
       "\n",
       "[1092 rows x 1001 columns]"
      ],
      "text/html": [
       "<div>\n",
       "<style scoped>\n",
       "    .dataframe tbody tr th:only-of-type {\n",
       "        vertical-align: middle;\n",
       "    }\n",
       "\n",
       "    .dataframe tbody tr th {\n",
       "        vertical-align: top;\n",
       "    }\n",
       "\n",
       "    .dataframe thead th {\n",
       "        text-align: right;\n",
       "    }\n",
       "</style>\n",
       "<table border=\"1\" class=\"dataframe\">\n",
       "  <thead>\n",
       "    <tr style=\"text-align: right;\">\n",
       "      <th></th>\n",
       "      <th>sample_0</th>\n",
       "      <th>sample_1</th>\n",
       "      <th>sample_2</th>\n",
       "      <th>sample_3</th>\n",
       "      <th>sample_4</th>\n",
       "      <th>sample_5</th>\n",
       "      <th>sample_6</th>\n",
       "      <th>sample_7</th>\n",
       "      <th>sample_8</th>\n",
       "      <th>sample_9</th>\n",
       "      <th>...</th>\n",
       "      <th>sample_991</th>\n",
       "      <th>sample_992</th>\n",
       "      <th>sample_993</th>\n",
       "      <th>sample_994</th>\n",
       "      <th>sample_995</th>\n",
       "      <th>sample_996</th>\n",
       "      <th>sample_997</th>\n",
       "      <th>sample_998</th>\n",
       "      <th>sample_999</th>\n",
       "      <th>label</th>\n",
       "    </tr>\n",
       "  </thead>\n",
       "  <tbody>\n",
       "    <tr>\n",
       "      <th>0</th>\n",
       "      <td>1.345788</td>\n",
       "      <td>1.349817</td>\n",
       "      <td>1.353040</td>\n",
       "      <td>1.353846</td>\n",
       "      <td>1.353846</td>\n",
       "      <td>1.356264</td>\n",
       "      <td>1.358681</td>\n",
       "      <td>1.359487</td>\n",
       "      <td>1.360293</td>\n",
       "      <td>1.356264</td>\n",
       "      <td>...</td>\n",
       "      <td>1.355458</td>\n",
       "      <td>1.353040</td>\n",
       "      <td>1.353846</td>\n",
       "      <td>1.353846</td>\n",
       "      <td>1.353846</td>\n",
       "      <td>1.353846</td>\n",
       "      <td>1.356264</td>\n",
       "      <td>1.354652</td>\n",
       "      <td>1.359487</td>\n",
       "      <td>0.0</td>\n",
       "    </tr>\n",
       "    <tr>\n",
       "      <th>1</th>\n",
       "      <td>1.364322</td>\n",
       "      <td>1.361099</td>\n",
       "      <td>1.361905</td>\n",
       "      <td>1.357875</td>\n",
       "      <td>1.358681</td>\n",
       "      <td>1.354652</td>\n",
       "      <td>1.356264</td>\n",
       "      <td>1.353846</td>\n",
       "      <td>1.353846</td>\n",
       "      <td>1.354652</td>\n",
       "      <td>...</td>\n",
       "      <td>1.353846</td>\n",
       "      <td>1.353040</td>\n",
       "      <td>1.353846</td>\n",
       "      <td>1.353846</td>\n",
       "      <td>1.352234</td>\n",
       "      <td>1.349817</td>\n",
       "      <td>1.352234</td>\n",
       "      <td>1.351429</td>\n",
       "      <td>1.352234</td>\n",
       "      <td>0.0</td>\n",
       "    </tr>\n",
       "    <tr>\n",
       "      <th>2</th>\n",
       "      <td>1.353846</td>\n",
       "      <td>1.356264</td>\n",
       "      <td>1.357875</td>\n",
       "      <td>1.357875</td>\n",
       "      <td>1.357070</td>\n",
       "      <td>1.354652</td>\n",
       "      <td>1.354652</td>\n",
       "      <td>1.362711</td>\n",
       "      <td>1.357875</td>\n",
       "      <td>1.356264</td>\n",
       "      <td>...</td>\n",
       "      <td>1.353040</td>\n",
       "      <td>1.357070</td>\n",
       "      <td>1.357875</td>\n",
       "      <td>1.356264</td>\n",
       "      <td>1.357875</td>\n",
       "      <td>1.355458</td>\n",
       "      <td>1.354652</td>\n",
       "      <td>1.354652</td>\n",
       "      <td>1.352234</td>\n",
       "      <td>0.0</td>\n",
       "    </tr>\n",
       "    <tr>\n",
       "      <th>3</th>\n",
       "      <td>1.353846</td>\n",
       "      <td>1.353846</td>\n",
       "      <td>1.353846</td>\n",
       "      <td>1.352234</td>\n",
       "      <td>1.351429</td>\n",
       "      <td>1.349011</td>\n",
       "      <td>1.352234</td>\n",
       "      <td>1.352234</td>\n",
       "      <td>1.355458</td>\n",
       "      <td>1.353846</td>\n",
       "      <td>...</td>\n",
       "      <td>1.357875</td>\n",
       "      <td>1.353846</td>\n",
       "      <td>1.353846</td>\n",
       "      <td>1.349817</td>\n",
       "      <td>1.352234</td>\n",
       "      <td>1.349817</td>\n",
       "      <td>1.353846</td>\n",
       "      <td>1.351429</td>\n",
       "      <td>1.353040</td>\n",
       "      <td>0.0</td>\n",
       "    </tr>\n",
       "    <tr>\n",
       "      <th>4</th>\n",
       "      <td>1.353846</td>\n",
       "      <td>1.353846</td>\n",
       "      <td>1.356264</td>\n",
       "      <td>1.356264</td>\n",
       "      <td>1.361099</td>\n",
       "      <td>1.353846</td>\n",
       "      <td>1.353846</td>\n",
       "      <td>1.353846</td>\n",
       "      <td>1.353846</td>\n",
       "      <td>1.352234</td>\n",
       "      <td>...</td>\n",
       "      <td>1.361905</td>\n",
       "      <td>1.364322</td>\n",
       "      <td>1.365128</td>\n",
       "      <td>1.358681</td>\n",
       "      <td>1.359487</td>\n",
       "      <td>1.353846</td>\n",
       "      <td>1.356264</td>\n",
       "      <td>1.353846</td>\n",
       "      <td>1.354652</td>\n",
       "      <td>0.0</td>\n",
       "    </tr>\n",
       "    <tr>\n",
       "      <th>...</th>\n",
       "      <td>...</td>\n",
       "      <td>...</td>\n",
       "      <td>...</td>\n",
       "      <td>...</td>\n",
       "      <td>...</td>\n",
       "      <td>...</td>\n",
       "      <td>...</td>\n",
       "      <td>...</td>\n",
       "      <td>...</td>\n",
       "      <td>...</td>\n",
       "      <td>...</td>\n",
       "      <td>...</td>\n",
       "      <td>...</td>\n",
       "      <td>...</td>\n",
       "      <td>...</td>\n",
       "      <td>...</td>\n",
       "      <td>...</td>\n",
       "      <td>...</td>\n",
       "      <td>...</td>\n",
       "      <td>...</td>\n",
       "      <td>...</td>\n",
       "    </tr>\n",
       "    <tr>\n",
       "      <th>1087</th>\n",
       "      <td>1.358681</td>\n",
       "      <td>1.377216</td>\n",
       "      <td>1.375604</td>\n",
       "      <td>1.378828</td>\n",
       "      <td>1.367546</td>\n",
       "      <td>1.353846</td>\n",
       "      <td>1.353846</td>\n",
       "      <td>1.354652</td>\n",
       "      <td>1.352234</td>\n",
       "      <td>1.346593</td>\n",
       "      <td>...</td>\n",
       "      <td>1.367546</td>\n",
       "      <td>1.357875</td>\n",
       "      <td>1.345788</td>\n",
       "      <td>1.341758</td>\n",
       "      <td>1.353846</td>\n",
       "      <td>1.353846</td>\n",
       "      <td>1.353846</td>\n",
       "      <td>1.351429</td>\n",
       "      <td>1.349817</td>\n",
       "      <td>1.0</td>\n",
       "    </tr>\n",
       "    <tr>\n",
       "      <th>1088</th>\n",
       "      <td>1.352234</td>\n",
       "      <td>1.353040</td>\n",
       "      <td>1.346593</td>\n",
       "      <td>1.366740</td>\n",
       "      <td>1.369158</td>\n",
       "      <td>1.361099</td>\n",
       "      <td>1.354652</td>\n",
       "      <td>1.357875</td>\n",
       "      <td>1.354652</td>\n",
       "      <td>1.355458</td>\n",
       "      <td>...</td>\n",
       "      <td>1.353846</td>\n",
       "      <td>1.354652</td>\n",
       "      <td>1.358681</td>\n",
       "      <td>1.365128</td>\n",
       "      <td>1.353846</td>\n",
       "      <td>1.351429</td>\n",
       "      <td>1.349011</td>\n",
       "      <td>1.347399</td>\n",
       "      <td>1.353846</td>\n",
       "      <td>1.0</td>\n",
       "    </tr>\n",
       "    <tr>\n",
       "      <th>1089</th>\n",
       "      <td>1.353040</td>\n",
       "      <td>1.362711</td>\n",
       "      <td>1.353846</td>\n",
       "      <td>1.352234</td>\n",
       "      <td>1.353040</td>\n",
       "      <td>1.353846</td>\n",
       "      <td>1.354652</td>\n",
       "      <td>1.357875</td>\n",
       "      <td>1.361099</td>\n",
       "      <td>1.353846</td>\n",
       "      <td>...</td>\n",
       "      <td>1.353040</td>\n",
       "      <td>1.353846</td>\n",
       "      <td>1.354652</td>\n",
       "      <td>1.353846</td>\n",
       "      <td>1.353846</td>\n",
       "      <td>1.355458</td>\n",
       "      <td>1.353846</td>\n",
       "      <td>1.361099</td>\n",
       "      <td>1.354652</td>\n",
       "      <td>1.0</td>\n",
       "    </tr>\n",
       "    <tr>\n",
       "      <th>1090</th>\n",
       "      <td>1.353846</td>\n",
       "      <td>1.362711</td>\n",
       "      <td>1.360293</td>\n",
       "      <td>1.357875</td>\n",
       "      <td>1.351429</td>\n",
       "      <td>1.352234</td>\n",
       "      <td>1.355458</td>\n",
       "      <td>1.353846</td>\n",
       "      <td>1.355458</td>\n",
       "      <td>1.353846</td>\n",
       "      <td>...</td>\n",
       "      <td>1.353846</td>\n",
       "      <td>1.356264</td>\n",
       "      <td>1.358681</td>\n",
       "      <td>1.358681</td>\n",
       "      <td>1.356264</td>\n",
       "      <td>1.353846</td>\n",
       "      <td>1.352234</td>\n",
       "      <td>1.353846</td>\n",
       "      <td>1.353846</td>\n",
       "      <td>2.0</td>\n",
       "    </tr>\n",
       "    <tr>\n",
       "      <th>1091</th>\n",
       "      <td>1.353846</td>\n",
       "      <td>1.354652</td>\n",
       "      <td>1.356264</td>\n",
       "      <td>1.359487</td>\n",
       "      <td>1.361099</td>\n",
       "      <td>1.359487</td>\n",
       "      <td>1.353846</td>\n",
       "      <td>1.353846</td>\n",
       "      <td>1.353846</td>\n",
       "      <td>1.353040</td>\n",
       "      <td>...</td>\n",
       "      <td>1.353040</td>\n",
       "      <td>1.350623</td>\n",
       "      <td>1.353846</td>\n",
       "      <td>1.353846</td>\n",
       "      <td>1.353040</td>\n",
       "      <td>1.353846</td>\n",
       "      <td>1.353846</td>\n",
       "      <td>1.361099</td>\n",
       "      <td>1.356264</td>\n",
       "      <td>2.0</td>\n",
       "    </tr>\n",
       "  </tbody>\n",
       "</table>\n",
       "<p>1092 rows × 1001 columns</p>\n",
       "</div>"
      ]
     },
     "execution_count": 4,
     "metadata": {},
     "output_type": "execute_result"
    }
   ],
   "execution_count": 4
  },
  {
   "metadata": {
    "ExecuteTime": {
     "end_time": "2025-04-28T13:38:27.148327Z",
     "start_time": "2025-04-28T13:38:27.135003Z"
    }
   },
   "cell_type": "code",
   "source": "data['label'].value_counts()",
   "id": "bad2ff01f3ec2cbb",
   "outputs": [
    {
     "data": {
      "text/plain": [
       "label\n",
       "1.0    504\n",
       "0.0    420\n",
       "2.0    168\n",
       "Name: count, dtype: int64"
      ]
     },
     "execution_count": 5,
     "metadata": {},
     "output_type": "execute_result"
    }
   ],
   "execution_count": 5
  },
  {
   "metadata": {
    "ExecuteTime": {
     "end_time": "2025-04-28T13:39:57.718915Z",
     "start_time": "2025-04-28T13:39:57.711127Z"
    }
   },
   "cell_type": "code",
   "source": [
    "# Get number of unnique labels\n",
    "num_unique_labels = data['label'].nunique()\n",
    "num_unique_labels"
   ],
   "id": "17085c172dc37a0c",
   "outputs": [
    {
     "data": {
      "text/plain": [
       "3"
      ]
     },
     "execution_count": 8,
     "metadata": {},
     "output_type": "execute_result"
    }
   ],
   "execution_count": 8
  },
  {
   "metadata": {
    "ExecuteTime": {
     "end_time": "2025-04-28T13:40:28.158365Z",
     "start_time": "2025-04-28T13:40:28.151797Z"
    }
   },
   "cell_type": "code",
   "source": "y_data = data['label'].values",
   "id": "3c7b2a103277bda8",
   "outputs": [],
   "execution_count": 9
  },
  {
   "metadata": {
    "ExecuteTime": {
     "end_time": "2025-04-28T13:40:34.609995Z",
     "start_time": "2025-04-28T13:40:34.597920Z"
    }
   },
   "cell_type": "code",
   "source": "X_data = data.drop(columns=['label']).values",
   "id": "e2e72f818bbef4a2",
   "outputs": [],
   "execution_count": 10
  },
  {
   "metadata": {},
   "cell_type": "code",
   "outputs": [],
   "execution_count": null,
   "source": [
    "# Transform to numpy array\n",
    "X_data = np.array(X_data)\n",
    "y_data = np.array(y_data)"
   ],
   "id": "89843fd1661d3534"
  },
  {
   "metadata": {
    "ExecuteTime": {
     "end_time": "2025-04-28T13:42:21.436351Z",
     "start_time": "2025-04-28T13:42:21.429356Z"
    }
   },
   "cell_type": "code",
   "source": "X_data.shape",
   "id": "b999ca5b74cbd4cb",
   "outputs": [
    {
     "data": {
      "text/plain": [
       "(1092, 1000)"
      ]
     },
     "execution_count": 11,
     "metadata": {},
     "output_type": "execute_result"
    }
   ],
   "execution_count": 11
  },
  {
   "metadata": {
    "ExecuteTime": {
     "end_time": "2025-04-28T13:42:25.876174Z",
     "start_time": "2025-04-28T13:42:25.868346Z"
    }
   },
   "cell_type": "code",
   "source": "y_data.shape",
   "id": "be1bf9eada0f4030",
   "outputs": [
    {
     "data": {
      "text/plain": [
       "(1092,)"
      ]
     },
     "execution_count": 12,
     "metadata": {},
     "output_type": "execute_result"
    }
   ],
   "execution_count": 12
  },
  {
   "metadata": {},
   "cell_type": "code",
   "outputs": [],
   "execution_count": null,
   "source": "",
   "id": "3390299fbc0ef397"
  }
 ],
 "metadata": {
  "kernelspec": {
   "display_name": "Python 3",
   "language": "python",
   "name": "python3"
  },
  "language_info": {
   "codemirror_mode": {
    "name": "ipython",
    "version": 2
   },
   "file_extension": ".py",
   "mimetype": "text/x-python",
   "name": "python",
   "nbconvert_exporter": "python",
   "pygments_lexer": "ipython2",
   "version": "2.7.6"
  }
 },
 "nbformat": 4,
 "nbformat_minor": 5
}

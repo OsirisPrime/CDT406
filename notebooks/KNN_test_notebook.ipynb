{
 "cells": [
  {
   "metadata": {
    "ExecuteTime": {
     "end_time": "2025-04-28T13:20:55.138048Z",
     "start_time": "2025-04-28T13:20:54.907407Z"
    }
   },
   "cell_type": "code",
   "source": [
    "from src.models.KNN.KNN import SimpleKNN\n",
    "from src.utils.path_utils import get_processed_data_dir\n",
    "import numpy as np\n",
    "from sklearn.model_selection import train_test_split\n",
    "\n",
    "path = str(get_processed_data_dir())\n",
    "\n",
    "# Load the data file, retrieving data and labels.\n",
    "npz_file = np.load(path)\n",
    "data = npz_file['data']\n",
    "labels = npz_file['labels']\n",
    "\n",
    "# Split the data into 80% training and 20% validation sets.\n",
    "X_train, X_val, y_train, y_val = train_test_split(\n",
    "    data, labels, test_size=0.2, random_state=42\n",
    ")"
   ],
   "id": "aafc12c9a7cd9612",
   "outputs": [],
   "execution_count": 9
  },
  {
   "metadata": {
    "ExecuteTime": {
     "end_time": "2025-04-28T13:20:24.994879Z",
     "start_time": "2025-04-28T13:20:24.990878Z"
    }
   },
   "cell_type": "code",
   "source": "knn = SimpleKNN(n_neighbors=3)",
   "id": "45a050f839ea834e",
   "outputs": [],
   "execution_count": 7
  },
  {
   "metadata": {
    "ExecuteTime": {
     "end_time": "2025-04-28T13:21:01.122460Z",
     "start_time": "2025-04-28T13:21:01.097932Z"
    }
   },
   "cell_type": "code",
   "source": "knn.train(X_train, y_train)",
   "id": "aa2546d100acd759",
   "outputs": [],
   "execution_count": 10
  },
  {
   "metadata": {
    "ExecuteTime": {
     "end_time": "2025-04-28T13:21:23.967495Z",
     "start_time": "2025-04-28T13:21:21.905653Z"
    }
   },
   "cell_type": "code",
   "source": "knn.evaluate(X_test=X_val, y_test=y_val)",
   "id": "b63c8430f035b3b5",
   "outputs": [
    {
     "data": {
      "text/plain": [
       "0.13185530921820304"
      ]
     },
     "execution_count": 11,
     "metadata": {},
     "output_type": "execute_result"
    }
   ],
   "execution_count": 11
  }
 ],
 "metadata": {
  "kernelspec": {
   "display_name": "Python 3",
   "language": "python",
   "name": "python3"
  },
  "language_info": {
   "codemirror_mode": {
    "name": "ipython",
    "version": 2
   },
   "file_extension": ".py",
   "mimetype": "text/x-python",
   "name": "python",
   "nbconvert_exporter": "python",
   "pygments_lexer": "ipython2",
   "version": "2.7.6"
  }
 },
 "nbformat": 4,
 "nbformat_minor": 5
}

{
 "cells": [
  {
   "cell_type": "code",
   "id": "initial_id",
   "metadata": {
    "collapsed": true,
    "ExecuteTime": {
     "end_time": "2025-04-28T13:16:33.815263Z",
     "start_time": "2025-04-28T13:16:30.624189Z"
    }
   },
   "source": "from src.models.KNN.KNN import simpleKNN",
   "outputs": [
    {
     "ename": "ImportError",
     "evalue": "cannot import name 'simpleKNN' from 'src.models.KNN.KNN' (C:\\Users\\erik\\IES_codebase\\EMG_Project\\CDT406-Smart-Gripper\\src\\models\\KNN\\KNN.py)",
     "output_type": "error",
     "traceback": [
      "\u001B[31m---------------------------------------------------------------------------\u001B[39m",
      "\u001B[31mImportError\u001B[39m                               Traceback (most recent call last)",
      "\u001B[36mCell\u001B[39m\u001B[36m \u001B[39m\u001B[32mIn[1]\u001B[39m\u001B[32m, line 1\u001B[39m\n\u001B[32m----> \u001B[39m\u001B[32m1\u001B[39m \u001B[38;5;28;01mfrom\u001B[39;00m\u001B[38;5;250m \u001B[39m\u001B[34;01msrc\u001B[39;00m\u001B[34;01m.\u001B[39;00m\u001B[34;01mmodels\u001B[39;00m\u001B[34;01m.\u001B[39;00m\u001B[34;01mKNN\u001B[39;00m\u001B[34;01m.\u001B[39;00m\u001B[34;01mKNN\u001B[39;00m\u001B[38;5;250m \u001B[39m\u001B[38;5;28;01mimport\u001B[39;00m simpleKNN\n",
      "\u001B[31mImportError\u001B[39m: cannot import name 'simpleKNN' from 'src.models.KNN.KNN' (C:\\Users\\erik\\IES_codebase\\EMG_Project\\CDT406-Smart-Gripper\\src\\models\\KNN\\KNN.py)"
     ]
    }
   ],
   "execution_count": 1
  },
  {
   "metadata": {},
   "cell_type": "code",
   "outputs": [],
   "execution_count": null,
   "source": "",
   "id": "aafc12c9a7cd9612"
  }
 ],
 "metadata": {
  "kernelspec": {
   "display_name": "Python 3",
   "language": "python",
   "name": "python3"
  },
  "language_info": {
   "codemirror_mode": {
    "name": "ipython",
    "version": 2
   },
   "file_extension": ".py",
   "mimetype": "text/x-python",
   "name": "python",
   "nbconvert_exporter": "python",
   "pygments_lexer": "ipython2",
   "version": "2.7.6"
  }
 },
 "nbformat": 4,
 "nbformat_minor": 5
}

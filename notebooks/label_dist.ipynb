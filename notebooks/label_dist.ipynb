{
 "cells": [
  {
   "cell_type": "code",
   "id": "initial_id",
   "metadata": {
    "collapsed": true,
    "ExecuteTime": {
     "end_time": "2025-05-26T08:00:37.040294Z",
     "start_time": "2025-05-26T08:00:37.027813Z"
    }
   },
   "source": "from src.data.data_helper import get_raw_data_as_dataframe, segment_data",
   "outputs": [],
   "execution_count": 1
  },
  {
   "metadata": {
    "ExecuteTime": {
     "end_time": "2025-05-26T08:01:22.952787Z",
     "start_time": "2025-05-26T08:01:12.093504Z"
    }
   },
   "cell_type": "code",
   "source": "raw_train_data, raw_val_data = get_raw_data_as_dataframe(validation_subjects=(1,2))",
   "id": "5d22b5faafcd093f",
   "outputs": [],
   "execution_count": 5
  },
  {
   "metadata": {
    "ExecuteTime": {
     "end_time": "2025-05-26T08:01:23.085999Z",
     "start_time": "2025-05-26T08:01:22.969372Z"
    }
   },
   "cell_type": "code",
   "source": [
    "import pandas as pd\n",
    "\n",
    "# concatenate the training and validation data\n",
    "raw_data = pd.concat([raw_train_data, raw_val_data])"
   ],
   "id": "698b2bc1e1f36b10",
   "outputs": [],
   "execution_count": 6
  },
  {
   "metadata": {
    "ExecuteTime": {
     "end_time": "2025-05-26T08:01:29.265599Z",
     "start_time": "2025-05-26T08:01:23.105724Z"
    }
   },
   "cell_type": "code",
   "source": [
    "# segment the data\n",
    "window_length = 200 * 5  # 200 ms\n",
    "overlap = 50 * 5\n",
    "segmented_data = segment_data(raw_data, window_length=window_length, overlap=overlap)"
   ],
   "id": "b6859f7d78f9c1a4",
   "outputs": [],
   "execution_count": 7
  },
  {
   "metadata": {
    "ExecuteTime": {
     "end_time": "2025-05-26T08:01:54.841538Z",
     "start_time": "2025-05-26T08:01:54.563049Z"
    }
   },
   "cell_type": "code",
   "source": [
    "# plot the distribution of labels\n",
    "import matplotlib.pyplot as plt\n",
    "\n",
    "label_counts = segmented_data['label'].value_counts()\n",
    "plt.figure(figsize=(10, 6))\n",
    "label_counts.plot(kind='bar', color='skyblue')\n",
    "plt.title('Distribution of Labels in Segmented Data')\n",
    "plt.xlabel('Label')\n",
    "plt.ylabel('Count')"
   ],
   "id": "be1784ccfa84d570",
   "outputs": [
    {
     "data": {
      "text/plain": [
       "Text(0, 0.5, 'Count')"
      ]
     },
     "execution_count": 8,
     "metadata": {},
     "output_type": "execute_result"
    },
    {
     "data": {
      "text/plain": [
       "<Figure size 1000x600 with 1 Axes>"
      ],
      "image/png": "[encoded data removed]"
     },
     "metadata": {},
     "output_type": "display_data"
    }
   ],
   "execution_count": 8
  },
  {
   "metadata": {
    "ExecuteTime": {
     "end_time": "2025-05-26T08:02:31.846582Z",
     "start_time": "2025-05-26T08:02:31.837474Z"
    }
   },
   "cell_type": "code",
   "source": [
    "# Count the occurrences of each label\n",
    "label_counts = segmented_data['label'].value_counts()\n",
    "\n",
    "# Print the count for each label\n",
    "print(\"Label counts:\")\n",
    "print(label_counts)\n",
    "\n",
    "# Print the total number of labels\n",
    "total_labels = label_counts.sum()\n",
    "print(\"\\nTotal labels:\", total_labels)"
   ],
   "id": "53d6266c4081e40e",
   "outputs": [
    {
     "name": "stdout",
     "output_type": "stream",
     "text": [
      "Label counts:\n",
      "label\n",
      "0    6794\n",
      "2    4830\n",
      "3     159\n",
      "1     151\n",
      "4      27\n",
      "Name: count, dtype: int64\n",
      "\n",
      "Total labels: 11961\n"
     ]
    }
   ],
   "execution_count": 9
  },
  {
   "metadata": {},
   "cell_type": "code",
   "outputs": [],
   "execution_count": null,
   "source": "",
   "id": "ad70b4f3c203abf"
  }
 ],
 "metadata": {
  "kernelspec": {
   "display_name": "Python 3",
   "language": "python",
   "name": "python3"
  },
  "language_info": {
   "codemirror_mode": {
    "name": "ipython",
    "version": 2
   },
   "file_extension": ".py",
   "mimetype": "text/x-python",
   "name": "python",
   "nbconvert_exporter": "python",
   "pygments_lexer": "ipython2",
   "version": "2.7.6"
  }
 },
 "nbformat": 4,
 "nbformat_minor": 5
}
